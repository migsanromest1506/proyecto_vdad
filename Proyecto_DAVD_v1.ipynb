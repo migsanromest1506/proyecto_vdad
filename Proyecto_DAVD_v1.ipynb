{
  "nbformat": 4,
  "nbformat_minor": 0,
  "metadata": {
    "colab": {
      "provenance": [],
      "authorship_tag": "ABX9TyNPzQRjciOBVr/1kB+AvVvm",
      "include_colab_link": true
    },
    "kernelspec": {
      "name": "python3",
      "display_name": "Python 3"
    },
    "language_info": {
      "name": "python"
    }
  },
  "cells": [
    {
      "cell_type": "markdown",
      "metadata": {
        "id": "view-in-github",
        "colab_type": "text"
      },
      "source": [
        "<a href=\"https://colab.research.google.com/github/migsanromest1506/proyecto_vdad/blob/main/Proyecto_DAVD_v1.ipynb\" target=\"_parent\"><img src=\"https://colab.research.google.com/assets/colab-badge.svg\" alt=\"Open In Colab\"/></a>"
      ]
    },
    {
      "cell_type": "markdown",
      "source": [
        "# 1. Instalación de librerias\n",
        "##Se hace la instalación de las librerias que se van a usar para este proyecto.\n",
        "### Librerias: Pandas, mathplotib openpyxl, seaborn, requests, lxml, sklearn"
      ],
      "metadata": {
        "id": "21vwOI2fdVCF"
      }
    },
    {
      "cell_type": "code",
      "source": [
        "pip install pandas matplotlib seaborn openpyxl lxml requests pandasql"
      ],
      "metadata": {
        "colab": {
          "base_uri": "https://localhost:8080/"
        },
        "id": "J3aFU3Eqd-V8",
        "outputId": "f958b919-ae79-48d6-bdec-30126f692c50"
      },
      "execution_count": 1,
      "outputs": [
        {
          "output_type": "stream",
          "name": "stdout",
          "text": [
            "Requirement already satisfied: pandas in /usr/local/lib/python3.10/dist-packages (2.0.3)\n",
            "Requirement already satisfied: matplotlib in /usr/local/lib/python3.10/dist-packages (3.7.1)\n",
            "Requirement already satisfied: seaborn in /usr/local/lib/python3.10/dist-packages (0.13.1)\n",
            "Requirement already satisfied: openpyxl in /usr/local/lib/python3.10/dist-packages (3.1.2)\n",
            "Requirement already satisfied: lxml in /usr/local/lib/python3.10/dist-packages (4.9.4)\n",
            "Requirement already satisfied: requests in /usr/local/lib/python3.10/dist-packages (2.31.0)\n",
            "Collecting pandasql\n",
            "  Downloading pandasql-0.7.3.tar.gz (26 kB)\n",
            "  Preparing metadata (setup.py) ... \u001b[?25l\u001b[?25hdone\n",
            "Requirement already satisfied: python-dateutil>=2.8.2 in /usr/local/lib/python3.10/dist-packages (from pandas) (2.8.2)\n",
            "Requirement already satisfied: pytz>=2020.1 in /usr/local/lib/python3.10/dist-packages (from pandas) (2023.4)\n",
            "Requirement already satisfied: tzdata>=2022.1 in /usr/local/lib/python3.10/dist-packages (from pandas) (2024.1)\n",
            "Requirement already satisfied: numpy>=1.21.0 in /usr/local/lib/python3.10/dist-packages (from pandas) (1.25.2)\n",
            "Requirement already satisfied: contourpy>=1.0.1 in /usr/local/lib/python3.10/dist-packages (from matplotlib) (1.2.1)\n",
            "Requirement already satisfied: cycler>=0.10 in /usr/local/lib/python3.10/dist-packages (from matplotlib) (0.12.1)\n",
            "Requirement already satisfied: fonttools>=4.22.0 in /usr/local/lib/python3.10/dist-packages (from matplotlib) (4.51.0)\n",
            "Requirement already satisfied: kiwisolver>=1.0.1 in /usr/local/lib/python3.10/dist-packages (from matplotlib) (1.4.5)\n",
            "Requirement already satisfied: packaging>=20.0 in /usr/local/lib/python3.10/dist-packages (from matplotlib) (24.0)\n",
            "Requirement already satisfied: pillow>=6.2.0 in /usr/local/lib/python3.10/dist-packages (from matplotlib) (9.4.0)\n",
            "Requirement already satisfied: pyparsing>=2.3.1 in /usr/local/lib/python3.10/dist-packages (from matplotlib) (3.1.2)\n",
            "Requirement already satisfied: et-xmlfile in /usr/local/lib/python3.10/dist-packages (from openpyxl) (1.1.0)\n",
            "Requirement already satisfied: charset-normalizer<4,>=2 in /usr/local/lib/python3.10/dist-packages (from requests) (3.3.2)\n",
            "Requirement already satisfied: idna<4,>=2.5 in /usr/local/lib/python3.10/dist-packages (from requests) (3.7)\n",
            "Requirement already satisfied: urllib3<3,>=1.21.1 in /usr/local/lib/python3.10/dist-packages (from requests) (2.0.7)\n",
            "Requirement already satisfied: certifi>=2017.4.17 in /usr/local/lib/python3.10/dist-packages (from requests) (2024.2.2)\n",
            "Requirement already satisfied: sqlalchemy in /usr/local/lib/python3.10/dist-packages (from pandasql) (2.0.30)\n",
            "Requirement already satisfied: six>=1.5 in /usr/local/lib/python3.10/dist-packages (from python-dateutil>=2.8.2->pandas) (1.16.0)\n",
            "Requirement already satisfied: typing-extensions>=4.6.0 in /usr/local/lib/python3.10/dist-packages (from sqlalchemy->pandasql) (4.11.0)\n",
            "Requirement already satisfied: greenlet!=0.4.17 in /usr/local/lib/python3.10/dist-packages (from sqlalchemy->pandasql) (3.0.3)\n",
            "Building wheels for collected packages: pandasql\n",
            "  Building wheel for pandasql (setup.py) ... \u001b[?25l\u001b[?25hdone\n",
            "  Created wheel for pandasql: filename=pandasql-0.7.3-py3-none-any.whl size=26771 sha256=d7c75fbb4c0c71b7e63b06893f196dad9b27389d661ef87a2188933bd20904b2\n",
            "  Stored in directory: /root/.cache/pip/wheels/e9/bc/3a/8434bdcccf5779e72894a9b24fecbdcaf97940607eaf4bcdf9\n",
            "Successfully built pandasql\n",
            "Installing collected packages: pandasql\n",
            "Successfully installed pandasql-0.7.3\n"
          ]
        }
      ]
    },
    {
      "cell_type": "markdown",
      "source": [],
      "metadata": {
        "id": "KkQxtdSoqX0O"
      }
    },
    {
      "cell_type": "markdown",
      "source": [
        "# Importación de las librerias\n"
      ],
      "metadata": {
        "id": "5ABDcxvBrD6e"
      }
    },
    {
      "cell_type": "code",
      "source": [
        "import pandas as pd\n",
        "import matplotlib.pyplot as plt\n",
        "import seaborn as sns"
      ],
      "metadata": {
        "id": "b8ate8_CrKpY"
      },
      "execution_count": 2,
      "outputs": []
    },
    {
      "cell_type": "markdown",
      "source": [
        "# Carga y analisis de datos"
      ],
      "metadata": {
        "id": "e1qy2QydroqQ"
      }
    },
    {
      "cell_type": "markdown",
      "source": [
        "## Carga"
      ],
      "metadata": {
        "id": "0A4T4tTWs47T"
      }
    },
    {
      "cell_type": "code",
      "source": [
        "cobertura = pd.read_csv(\"data/cobertura-movil-por-departamento-y-proveedor.csv\")\n"
      ],
      "metadata": {
        "id": "b32TO426rr3T"
      },
      "execution_count": 3,
      "outputs": []
    },
    {
      "cell_type": "markdown",
      "source": [
        "## Analisis"
      ],
      "metadata": {
        "id": "81aHNt7Ts7Xx"
      }
    },
    {
      "cell_type": "code",
      "source": [
        "print(\"En el dataset de la cobertura podemos encontrar estas columnas \\n\")\n",
        "print(cobertura.columns)\n",
        "print(\"\\n\")\n",
        "\n",
        "print(\"Adicionalmente podemos ver el tipo de dato de cada columna \\n\")\n",
        "print(cobertura.dtypes)"
      ],
      "metadata": {
        "colab": {
          "base_uri": "https://localhost:8080/"
        },
        "id": "nxZNCZzWtApX",
        "outputId": "aa442870-96aa-4d2a-8591-da97da398e94"
      },
      "execution_count": 4,
      "outputs": [
        {
          "output_type": "stream",
          "name": "stdout",
          "text": [
            "En el dataset de la cobertura podemos encontrar estas columnas \n",
            "\n",
            "Index(['ANO', 'TRIMESTRE', 'PROVEEDOR', 'COD_DEPARTAMENTO', 'DEPARTAMENTO',\n",
            "       'MUNICIPIO', 'CAB_MUNICIPAL', 'COBERT_2G', 'COBERT_3G', 'COBERT_4G',\n",
            "       'COBERT_LTE'],\n",
            "      dtype='object')\n",
            "\n",
            "\n",
            "Adicionalmente podemos ver el tipo de dato de cada columna \n",
            "\n",
            "ANO                  int64\n",
            "TRIMESTRE            int64\n",
            "PROVEEDOR           object\n",
            "COD_DEPARTAMENTO     int64\n",
            "DEPARTAMENTO        object\n",
            "MUNICIPIO           object\n",
            "CAB_MUNICIPAL       object\n",
            "COBERT_2G           object\n",
            "COBERT_3G           object\n",
            "COBERT_4G           object\n",
            "COBERT_LTE          object\n",
            "dtype: object\n"
          ]
        }
      ]
    },
    {
      "cell_type": "code",
      "source": [
        "print(\"los datos que se encuentran dentro de la columna PROVEEDOR son:\")\n",
        "cobertura['PROVEEDOR'].describe()"
      ],
      "metadata": {
        "colab": {
          "base_uri": "https://localhost:8080/"
        },
        "id": "Hkd2EvfBxm_3",
        "outputId": "4c4daebb-5662-4700-bd51-b81bf75785dc"
      },
      "execution_count": 5,
      "outputs": [
        {
          "output_type": "stream",
          "name": "stdout",
          "text": [
            "los datos que se encuentran dentro de la columna PROVEEDOR son:\n"
          ]
        },
        {
          "output_type": "execute_result",
          "data": {
            "text/plain": [
              "count                                  231743\n",
              "unique                                      6\n",
              "top       COMUNICACION CELULAR S A COMCEL S A\n",
              "freq                                   124584\n",
              "Name: PROVEEDOR, dtype: object"
            ]
          },
          "metadata": {},
          "execution_count": 5
        }
      ]
    },
    {
      "cell_type": "code",
      "source": [
        "print(\"Con esta descripcion de la columna podemos ver cuales son los proveedores del servicio de internet \\n\")\n",
        "pd.unique(cobertura['PROVEEDOR'])"
      ],
      "metadata": {
        "colab": {
          "base_uri": "https://localhost:8080/"
        },
        "id": "x-OAWh800w1J",
        "outputId": "20ee817b-d6ab-4836-9583-30cb19969f8c"
      },
      "execution_count": 6,
      "outputs": [
        {
          "output_type": "stream",
          "name": "stdout",
          "text": [
            "Con esta descripcion de la columna podemos ver cuales son los proveedores del servicio de internet \n",
            "\n"
          ]
        },
        {
          "output_type": "execute_result",
          "data": {
            "text/plain": [
              "array(['COMUNICACION CELULAR S A COMCEL S A', 'AVANTEL S.A.S',\n",
              "       'COLOMBIA TELECOMUNICACIONES S.A. E.S.P.',\n",
              "       'EMPRESA DE TELECOMUNICACIONES DE BOGOTA S.A. ESP',\n",
              "       'COLOMBIA MOVIL  S.A ESP', 'PARTNERS TELECOM COLOMBIA SAS'],\n",
              "      dtype=object)"
            ]
          },
          "metadata": {},
          "execution_count": 6
        }
      ]
    },
    {
      "cell_type": "code",
      "source": [
        "print(\"los datos que se encuentran dentro de la columna DEPARTAMENTO son:\")\n",
        "cobertura['DEPARTAMENTO'].describe()"
      ],
      "metadata": {
        "colab": {
          "base_uri": "https://localhost:8080/"
        },
        "id": "ai55-q11x1kg",
        "outputId": "4bd22936-4b8e-4de2-bef7-aef41542b6d6"
      },
      "execution_count": 7,
      "outputs": [
        {
          "output_type": "stream",
          "name": "stdout",
          "text": [
            "los datos que se encuentran dentro de la columna DEPARTAMENTO son:\n"
          ]
        },
        {
          "output_type": "execute_result",
          "data": {
            "text/plain": [
              "count        231743\n",
              "unique           33\n",
              "top       ANTIOQUIA\n",
              "freq          22886\n",
              "Name: DEPARTAMENTO, dtype: object"
            ]
          },
          "metadata": {},
          "execution_count": 7
        }
      ]
    },
    {
      "cell_type": "code",
      "source": [
        "print(\"Con esta descripcion de la columna podemos ver cuales son los departamentos de los cuales tenemos datos del servicio de internet \\n\")\n",
        "pd.unique(cobertura['DEPARTAMENTO'])"
      ],
      "metadata": {
        "colab": {
          "base_uri": "https://localhost:8080/"
        },
        "id": "GgqwscrPuqvK",
        "outputId": "cef7a377-d16d-41b5-86c3-0af059484b3f"
      },
      "execution_count": 8,
      "outputs": [
        {
          "output_type": "stream",
          "name": "stdout",
          "text": [
            "Con esta descripcion de la columna podemos ver cuales son los departamentos de los cuales tenemos datos del servicio de internet \n",
            "\n"
          ]
        },
        {
          "output_type": "execute_result",
          "data": {
            "text/plain": [
              "array(['VALLE DEL CAUCA', 'TOLIMA', 'CAUCA', 'CUNDINAMARCA', 'BOYACÁ',\n",
              "       'META', 'CALDAS', 'HUILA', 'NARIÑO', 'ANTIOQUIA',\n",
              "       'NORTE DE SANTANDER', 'CAQUETA', 'SUCRE', 'ATLÁNTICO', 'RISARALDA',\n",
              "       'MAGDALENA', 'BOLÍVAR', 'VICHADA', 'SANTANDER', 'PUTUMAYO',\n",
              "       'AMAZONAS', 'QUINDÍO', 'CHOCÓ', 'ARAUCA', 'CÓRDOBA', 'LA GUAJIRA',\n",
              "       'CASANARE', 'CESAR', 'GUAVIARE', 'BOGOTÁ D.C.',\n",
              "       'ARCHIPIÉLAGO DE SAN ANDRÉS, PROVIDENCIA Y SANTA CATALINA',\n",
              "       'GUAINÍA', 'VAUPÉS'], dtype=object)"
            ]
          },
          "metadata": {},
          "execution_count": 8
        }
      ]
    },
    {
      "cell_type": "code",
      "source": [
        "print(\"los datos que se encuentran dentro de la columna MUNICIPIO son:\")\n",
        "cobertura['MUNICIPIO'].describe()"
      ],
      "metadata": {
        "colab": {
          "base_uri": "https://localhost:8080/"
        },
        "id": "VY2RFNkQx52m",
        "outputId": "2cbfc68b-cedd-4d19-9633-1992e6a6473b"
      },
      "execution_count": 9,
      "outputs": [
        {
          "output_type": "stream",
          "name": "stdout",
          "text": [
            "los datos que se encuentran dentro de la columna MUNICIPIO son:\n"
          ]
        },
        {
          "output_type": "execute_result",
          "data": {
            "text/plain": [
              "count                            231743\n",
              "unique                             1037\n",
              "top       TUMACO - SAN ANDRES DE TUMACO\n",
              "freq                               1745\n",
              "Name: MUNICIPIO, dtype: object"
            ]
          },
          "metadata": {},
          "execution_count": 9
        }
      ]
    },
    {
      "cell_type": "code",
      "source": [
        "print(\"Con esta descripcion de la columna podemos ver cuales son los municipios de los cuales tenemos datos del servicio de internet \\n\")\n",
        "pd.unique(cobertura['MUNICIPIO'])"
      ],
      "metadata": {
        "colab": {
          "base_uri": "https://localhost:8080/"
        },
        "id": "AgDOmh4o2PW9",
        "outputId": "0dc7ff37-1097-4ac1-f54b-f0b7c755f9b8"
      },
      "execution_count": 10,
      "outputs": [
        {
          "output_type": "stream",
          "name": "stdout",
          "text": [
            "Con esta descripcion de la columna podemos ver cuales son los municipios de los cuales tenemos datos del servicio de internet \n",
            "\n"
          ]
        },
        {
          "output_type": "execute_result",
          "data": {
            "text/plain": [
              "array(['DAGUA', 'ROVIRA', 'TOTORÓ', ..., 'MIRITI - PARANÁ', 'EL ENCANTO',\n",
              "       'CARMEN DE CARUPA'], dtype=object)"
            ]
          },
          "metadata": {},
          "execution_count": 10
        }
      ]
    },
    {
      "cell_type": "code",
      "source": [
        "print(\"los datos que se encuentran dentro de la columna CABECERA MUNICIPAL son:\")\n",
        "cobertura['CAB_MUNICIPAL'].describe()"
      ],
      "metadata": {
        "colab": {
          "base_uri": "https://localhost:8080/"
        },
        "id": "Ff_BfuJYx-E4",
        "outputId": "17ee5186-08d0-4612-9062-c6a229af46e4"
      },
      "execution_count": 11,
      "outputs": [
        {
          "output_type": "stream",
          "name": "stdout",
          "text": [
            "los datos que se encuentran dentro de la columna CABECERA MUNICIPAL son:\n"
          ]
        },
        {
          "output_type": "execute_result",
          "data": {
            "text/plain": [
              "count     231743\n",
              "unique         2\n",
              "top            N\n",
              "freq      138735\n",
              "Name: CAB_MUNICIPAL, dtype: object"
            ]
          },
          "metadata": {},
          "execution_count": 11
        }
      ]
    },
    {
      "cell_type": "code",
      "source": [
        "print(\"Con esta descripcion de la columna podemos ver cuales de los municipios son cabeceras municipales \\n\")\n",
        "pd.unique(cobertura['CAB_MUNICIPAL'])"
      ],
      "metadata": {
        "colab": {
          "base_uri": "https://localhost:8080/"
        },
        "id": "3dXjV78S2j5l",
        "outputId": "377145ba-dee9-41eb-d189-8595b142e602"
      },
      "execution_count": 12,
      "outputs": [
        {
          "output_type": "stream",
          "name": "stdout",
          "text": [
            "Con esta descripcion de la columna podemos ver cuales de los municipios son cabeceras municipales \n",
            "\n"
          ]
        },
        {
          "output_type": "execute_result",
          "data": {
            "text/plain": [
              "array(['N', 'S'], dtype=object)"
            ]
          },
          "metadata": {},
          "execution_count": 12
        }
      ]
    },
    {
      "cell_type": "code",
      "source": [
        "print(\"los datos que se encuentran dentro de la columna COBERTURA 2G son:\")\n",
        "cobertura['COBERT_2G'].describe()"
      ],
      "metadata": {
        "colab": {
          "base_uri": "https://localhost:8080/"
        },
        "id": "bR6oR5JjyDe4",
        "outputId": "6859bcf8-06e4-4995-f829-fb5da6bd3363"
      },
      "execution_count": 13,
      "outputs": [
        {
          "output_type": "stream",
          "name": "stdout",
          "text": [
            "los datos que se encuentran dentro de la columna COBERTURA 2G son:\n"
          ]
        },
        {
          "output_type": "execute_result",
          "data": {
            "text/plain": [
              "count     231743\n",
              "unique         2\n",
              "top            S\n",
              "freq      136673\n",
              "Name: COBERT_2G, dtype: object"
            ]
          },
          "metadata": {},
          "execution_count": 13
        }
      ]
    },
    {
      "cell_type": "code",
      "source": [
        "print(\"Con esta descripcion de la columna podemos ver cuales son las opciones para la cobertura 2g \\n\")\n",
        "pd.unique(cobertura['COBERT_2G'])"
      ],
      "metadata": {
        "colab": {
          "base_uri": "https://localhost:8080/"
        },
        "id": "18VpJBDR5X9N",
        "outputId": "5b647bb0-f8da-4299-c2bc-94806be5456e"
      },
      "execution_count": 14,
      "outputs": [
        {
          "output_type": "stream",
          "name": "stdout",
          "text": [
            "Con esta descripcion de la columna podemos ver cuales son las opciones para la cobertura 2g \n",
            "\n"
          ]
        },
        {
          "output_type": "execute_result",
          "data": {
            "text/plain": [
              "array(['S', 'N'], dtype=object)"
            ]
          },
          "metadata": {},
          "execution_count": 14
        }
      ]
    },
    {
      "cell_type": "code",
      "source": [
        "print(\"los datos que se encuentran dentro de la columna COBERTURA 3G son:\")\n",
        "cobertura['COBERT_3G'].describe()"
      ],
      "metadata": {
        "colab": {
          "base_uri": "https://localhost:8080/"
        },
        "id": "zVWVpSkWz-Lj",
        "outputId": "adbd8076-38d8-4d2d-9a63-a67260fcf61f"
      },
      "execution_count": 15,
      "outputs": [
        {
          "output_type": "stream",
          "name": "stdout",
          "text": [
            "los datos que se encuentran dentro de la columna COBERTURA 3G son:\n"
          ]
        },
        {
          "output_type": "execute_result",
          "data": {
            "text/plain": [
              "count     231743\n",
              "unique         2\n",
              "top            S\n",
              "freq      138343\n",
              "Name: COBERT_3G, dtype: object"
            ]
          },
          "metadata": {},
          "execution_count": 15
        }
      ]
    },
    {
      "cell_type": "code",
      "source": [
        "print(\"Con esta descripcion de la columna podemos ver cuales son las opciones para la cobertura 3g \\n\")\n",
        "pd.unique(cobertura['COBERT_3G'])"
      ],
      "metadata": {
        "colab": {
          "base_uri": "https://localhost:8080/"
        },
        "id": "dovWGSe45psN",
        "outputId": "62dcedac-d206-409c-ffc0-25125896c9b4"
      },
      "execution_count": 16,
      "outputs": [
        {
          "output_type": "stream",
          "name": "stdout",
          "text": [
            "Con esta descripcion de la columna podemos ver cuales son las opciones para la cobertura 3g \n",
            "\n"
          ]
        },
        {
          "output_type": "execute_result",
          "data": {
            "text/plain": [
              "array(['S', 'N'], dtype=object)"
            ]
          },
          "metadata": {},
          "execution_count": 16
        }
      ]
    },
    {
      "cell_type": "code",
      "source": [
        "print(\"los datos que se encuentran dentro de la columna COBERTUTA 4G son:\")\n",
        "cobertura['COBERT_4G'].describe()"
      ],
      "metadata": {
        "colab": {
          "base_uri": "https://localhost:8080/"
        },
        "id": "1hcT_G4I0CbZ",
        "outputId": "122a2c86-0970-4130-ab1e-8198e209bf5b"
      },
      "execution_count": 17,
      "outputs": [
        {
          "output_type": "stream",
          "name": "stdout",
          "text": [
            "los datos que se encuentran dentro de la columna COBERTUTA 4G son:\n"
          ]
        },
        {
          "output_type": "execute_result",
          "data": {
            "text/plain": [
              "count     231743\n",
              "unique         2\n",
              "top            N\n",
              "freq      156628\n",
              "Name: COBERT_4G, dtype: object"
            ]
          },
          "metadata": {},
          "execution_count": 17
        }
      ]
    },
    {
      "cell_type": "code",
      "source": [
        "print(\"Con esta descripcion de la columna podemos ver cuales son las opciones para la cobertura 4g \\n\")\n",
        "pd.unique(cobertura['COBERT_4G'])"
      ],
      "metadata": {
        "colab": {
          "base_uri": "https://localhost:8080/"
        },
        "id": "9OjreXCj5ve-",
        "outputId": "dccdef7b-6137-437e-9556-67db677c918c"
      },
      "execution_count": 18,
      "outputs": [
        {
          "output_type": "stream",
          "name": "stdout",
          "text": [
            "Con esta descripcion de la columna podemos ver cuales son las opciones para la cobertura 4g \n",
            "\n"
          ]
        },
        {
          "output_type": "execute_result",
          "data": {
            "text/plain": [
              "array(['N', 'S'], dtype=object)"
            ]
          },
          "metadata": {},
          "execution_count": 18
        }
      ]
    },
    {
      "cell_type": "code",
      "source": [
        "print(\"los datos que se encuentran dentro de la columna COBERTURA LTE son:\")\n",
        "cobertura['COBERT_LTE'].describe()"
      ],
      "metadata": {
        "colab": {
          "base_uri": "https://localhost:8080/"
        },
        "id": "CUcmQLLn0G9q",
        "outputId": "c873560a-5ec1-489c-ac9d-bbf1587eed62"
      },
      "execution_count": 19,
      "outputs": [
        {
          "output_type": "stream",
          "name": "stdout",
          "text": [
            "los datos que se encuentran dentro de la columna COBERTURA LTE son:\n"
          ]
        },
        {
          "output_type": "execute_result",
          "data": {
            "text/plain": [
              "count     231743\n",
              "unique         2\n",
              "top            N\n",
              "freq      202320\n",
              "Name: COBERT_LTE, dtype: object"
            ]
          },
          "metadata": {},
          "execution_count": 19
        }
      ]
    },
    {
      "cell_type": "code",
      "source": [
        "print(\"Con esta descripcion de la columna podemos ver cuales son las opciones para la cobertura LTE \\n\")\n",
        "pd.unique(cobertura['COBERT_LTE'])"
      ],
      "metadata": {
        "colab": {
          "base_uri": "https://localhost:8080/"
        },
        "id": "L9mNTBph53pn",
        "outputId": "15ef62ea-e34d-4724-d8da-e0bb617340ea"
      },
      "execution_count": 20,
      "outputs": [
        {
          "output_type": "stream",
          "name": "stdout",
          "text": [
            "Con esta descripcion de la columna podemos ver cuales son las opciones para la cobertura LTE \n",
            "\n"
          ]
        },
        {
          "output_type": "execute_result",
          "data": {
            "text/plain": [
              "array(['N', 'S'], dtype=object)"
            ]
          },
          "metadata": {},
          "execution_count": 20
        }
      ]
    },
    {
      "cell_type": "markdown",
      "source": [
        "# Agrupacion de datos y graficás(?)"
      ],
      "metadata": {
        "id": "H4iGD1hD6mry"
      }
    },
    {
      "cell_type": "markdown",
      "source": [
        "## Municipios que NO brindan servicio de 2G en el primer tercio de 2022"
      ],
      "metadata": {
        "id": "Se0iwXt8Nx3k"
      }
    },
    {
      "cell_type": "code",
      "source": [
        "consulta= cobertura.query('COBERT_2G == \"N\" and ANO == 2022 and TRIMESTRE == 1')\n",
        "consulta\n",
        "\n",
        "\n"
      ],
      "metadata": {
        "colab": {
          "base_uri": "https://localhost:8080/",
          "height": 511
        },
        "id": "AZq5UCQHtWs4",
        "outputId": "e147c583-811d-45de-d87c-85e34974e4f4"
      },
      "execution_count": 21,
      "outputs": [
        {
          "output_type": "execute_result",
          "data": {
            "text/plain": [
              "         ANO  TRIMESTRE                                         PROVEEDOR  \\\n",
              "152745  2022          1           COLOMBIA TELECOMUNICACIONES S.A. E.S.P.   \n",
              "152747  2022          1                     PARTNERS TELECOM COLOMBIA SAS   \n",
              "152767  2022          1                     PARTNERS TELECOM COLOMBIA SAS   \n",
              "152792  2022          1                     PARTNERS TELECOM COLOMBIA SAS   \n",
              "152793  2022          1  EMPRESA DE TELECOMUNICACIONES DE BOGOTA S.A. ESP   \n",
              "...      ...        ...                                               ...   \n",
              "198701  2022          1           COLOMBIA TELECOMUNICACIONES S.A. E.S.P.   \n",
              "198702  2022          1  EMPRESA DE TELECOMUNICACIONES DE BOGOTA S.A. ESP   \n",
              "198710  2022          1                     PARTNERS TELECOM COLOMBIA SAS   \n",
              "198718  2022          1                     PARTNERS TELECOM COLOMBIA SAS   \n",
              "198734  2022          1                     PARTNERS TELECOM COLOMBIA SAS   \n",
              "\n",
              "        COD_DEPARTAMENTO        DEPARTAMENTO          MUNICIPIO CAB_MUNICIPAL  \\\n",
              "152745                 5           ANTIOQUIA            BELMIRA             S   \n",
              "152747                54  NORTE DE SANTANDER  VILLA DEL ROSARIO             S   \n",
              "152767                52              NARIÑO         LA LLANADA             S   \n",
              "152792                68           SANTANDER         CAPITANEJO             S   \n",
              "152793                13             BOLÍVAR           MAGANGUÉ             N   \n",
              "...                  ...                 ...                ...           ...   \n",
              "198701                54  NORTE DE SANTANDER            CACHIRÁ             S   \n",
              "198702                 5           ANTIOQUIA            CÁCERES             N   \n",
              "198710                86            PUTUMAYO         SAN MIGUEL             S   \n",
              "198718                70               SUCRE         SAN MARCOS             N   \n",
              "198734                99             VICHADA           CUMARIBO             S   \n",
              "\n",
              "       COBERT_2G COBERT_3G COBERT_4G COBERT_LTE  \n",
              "152745         N         N         S          N  \n",
              "152747         N         S         S          N  \n",
              "152767         N         S         N          N  \n",
              "152792         N         S         N          N  \n",
              "152793         N         S         N          N  \n",
              "...          ...       ...       ...        ...  \n",
              "198701         N         N         S          N  \n",
              "198702         N         S         N          N  \n",
              "198710         N         S         N          N  \n",
              "198718         N         N         S          N  \n",
              "198734         N         S         N          N  \n",
              "\n",
              "[2726 rows x 11 columns]"
            ],
            "text/html": [
              "\n",
              "  <div id=\"df-cc382fb4-068b-4796-a70b-7083ed6153f0\" class=\"colab-df-container\">\n",
              "    <div>\n",
              "<style scoped>\n",
              "    .dataframe tbody tr th:only-of-type {\n",
              "        vertical-align: middle;\n",
              "    }\n",
              "\n",
              "    .dataframe tbody tr th {\n",
              "        vertical-align: top;\n",
              "    }\n",
              "\n",
              "    .dataframe thead th {\n",
              "        text-align: right;\n",
              "    }\n",
              "</style>\n",
              "<table border=\"1\" class=\"dataframe\">\n",
              "  <thead>\n",
              "    <tr style=\"text-align: right;\">\n",
              "      <th></th>\n",
              "      <th>ANO</th>\n",
              "      <th>TRIMESTRE</th>\n",
              "      <th>PROVEEDOR</th>\n",
              "      <th>COD_DEPARTAMENTO</th>\n",
              "      <th>DEPARTAMENTO</th>\n",
              "      <th>MUNICIPIO</th>\n",
              "      <th>CAB_MUNICIPAL</th>\n",
              "      <th>COBERT_2G</th>\n",
              "      <th>COBERT_3G</th>\n",
              "      <th>COBERT_4G</th>\n",
              "      <th>COBERT_LTE</th>\n",
              "    </tr>\n",
              "  </thead>\n",
              "  <tbody>\n",
              "    <tr>\n",
              "      <th>152745</th>\n",
              "      <td>2022</td>\n",
              "      <td>1</td>\n",
              "      <td>COLOMBIA TELECOMUNICACIONES S.A. E.S.P.</td>\n",
              "      <td>5</td>\n",
              "      <td>ANTIOQUIA</td>\n",
              "      <td>BELMIRA</td>\n",
              "      <td>S</td>\n",
              "      <td>N</td>\n",
              "      <td>N</td>\n",
              "      <td>S</td>\n",
              "      <td>N</td>\n",
              "    </tr>\n",
              "    <tr>\n",
              "      <th>152747</th>\n",
              "      <td>2022</td>\n",
              "      <td>1</td>\n",
              "      <td>PARTNERS TELECOM COLOMBIA SAS</td>\n",
              "      <td>54</td>\n",
              "      <td>NORTE DE SANTANDER</td>\n",
              "      <td>VILLA DEL ROSARIO</td>\n",
              "      <td>S</td>\n",
              "      <td>N</td>\n",
              "      <td>S</td>\n",
              "      <td>S</td>\n",
              "      <td>N</td>\n",
              "    </tr>\n",
              "    <tr>\n",
              "      <th>152767</th>\n",
              "      <td>2022</td>\n",
              "      <td>1</td>\n",
              "      <td>PARTNERS TELECOM COLOMBIA SAS</td>\n",
              "      <td>52</td>\n",
              "      <td>NARIÑO</td>\n",
              "      <td>LA LLANADA</td>\n",
              "      <td>S</td>\n",
              "      <td>N</td>\n",
              "      <td>S</td>\n",
              "      <td>N</td>\n",
              "      <td>N</td>\n",
              "    </tr>\n",
              "    <tr>\n",
              "      <th>152792</th>\n",
              "      <td>2022</td>\n",
              "      <td>1</td>\n",
              "      <td>PARTNERS TELECOM COLOMBIA SAS</td>\n",
              "      <td>68</td>\n",
              "      <td>SANTANDER</td>\n",
              "      <td>CAPITANEJO</td>\n",
              "      <td>S</td>\n",
              "      <td>N</td>\n",
              "      <td>S</td>\n",
              "      <td>N</td>\n",
              "      <td>N</td>\n",
              "    </tr>\n",
              "    <tr>\n",
              "      <th>152793</th>\n",
              "      <td>2022</td>\n",
              "      <td>1</td>\n",
              "      <td>EMPRESA DE TELECOMUNICACIONES DE BOGOTA S.A. ESP</td>\n",
              "      <td>13</td>\n",
              "      <td>BOLÍVAR</td>\n",
              "      <td>MAGANGUÉ</td>\n",
              "      <td>N</td>\n",
              "      <td>N</td>\n",
              "      <td>S</td>\n",
              "      <td>N</td>\n",
              "      <td>N</td>\n",
              "    </tr>\n",
              "    <tr>\n",
              "      <th>...</th>\n",
              "      <td>...</td>\n",
              "      <td>...</td>\n",
              "      <td>...</td>\n",
              "      <td>...</td>\n",
              "      <td>...</td>\n",
              "      <td>...</td>\n",
              "      <td>...</td>\n",
              "      <td>...</td>\n",
              "      <td>...</td>\n",
              "      <td>...</td>\n",
              "      <td>...</td>\n",
              "    </tr>\n",
              "    <tr>\n",
              "      <th>198701</th>\n",
              "      <td>2022</td>\n",
              "      <td>1</td>\n",
              "      <td>COLOMBIA TELECOMUNICACIONES S.A. E.S.P.</td>\n",
              "      <td>54</td>\n",
              "      <td>NORTE DE SANTANDER</td>\n",
              "      <td>CACHIRÁ</td>\n",
              "      <td>S</td>\n",
              "      <td>N</td>\n",
              "      <td>N</td>\n",
              "      <td>S</td>\n",
              "      <td>N</td>\n",
              "    </tr>\n",
              "    <tr>\n",
              "      <th>198702</th>\n",
              "      <td>2022</td>\n",
              "      <td>1</td>\n",
              "      <td>EMPRESA DE TELECOMUNICACIONES DE BOGOTA S.A. ESP</td>\n",
              "      <td>5</td>\n",
              "      <td>ANTIOQUIA</td>\n",
              "      <td>CÁCERES</td>\n",
              "      <td>N</td>\n",
              "      <td>N</td>\n",
              "      <td>S</td>\n",
              "      <td>N</td>\n",
              "      <td>N</td>\n",
              "    </tr>\n",
              "    <tr>\n",
              "      <th>198710</th>\n",
              "      <td>2022</td>\n",
              "      <td>1</td>\n",
              "      <td>PARTNERS TELECOM COLOMBIA SAS</td>\n",
              "      <td>86</td>\n",
              "      <td>PUTUMAYO</td>\n",
              "      <td>SAN MIGUEL</td>\n",
              "      <td>S</td>\n",
              "      <td>N</td>\n",
              "      <td>S</td>\n",
              "      <td>N</td>\n",
              "      <td>N</td>\n",
              "    </tr>\n",
              "    <tr>\n",
              "      <th>198718</th>\n",
              "      <td>2022</td>\n",
              "      <td>1</td>\n",
              "      <td>PARTNERS TELECOM COLOMBIA SAS</td>\n",
              "      <td>70</td>\n",
              "      <td>SUCRE</td>\n",
              "      <td>SAN MARCOS</td>\n",
              "      <td>N</td>\n",
              "      <td>N</td>\n",
              "      <td>N</td>\n",
              "      <td>S</td>\n",
              "      <td>N</td>\n",
              "    </tr>\n",
              "    <tr>\n",
              "      <th>198734</th>\n",
              "      <td>2022</td>\n",
              "      <td>1</td>\n",
              "      <td>PARTNERS TELECOM COLOMBIA SAS</td>\n",
              "      <td>99</td>\n",
              "      <td>VICHADA</td>\n",
              "      <td>CUMARIBO</td>\n",
              "      <td>S</td>\n",
              "      <td>N</td>\n",
              "      <td>S</td>\n",
              "      <td>N</td>\n",
              "      <td>N</td>\n",
              "    </tr>\n",
              "  </tbody>\n",
              "</table>\n",
              "<p>2726 rows × 11 columns</p>\n",
              "</div>\n",
              "    <div class=\"colab-df-buttons\">\n",
              "\n",
              "  <div class=\"colab-df-container\">\n",
              "    <button class=\"colab-df-convert\" onclick=\"convertToInteractive('df-cc382fb4-068b-4796-a70b-7083ed6153f0')\"\n",
              "            title=\"Convert this dataframe to an interactive table.\"\n",
              "            style=\"display:none;\">\n",
              "\n",
              "  <svg xmlns=\"http://www.w3.org/2000/svg\" height=\"24px\" viewBox=\"0 -960 960 960\">\n",
              "    <path d=\"M120-120v-720h720v720H120Zm60-500h600v-160H180v160Zm220 220h160v-160H400v160Zm0 220h160v-160H400v160ZM180-400h160v-160H180v160Zm440 0h160v-160H620v160ZM180-180h160v-160H180v160Zm440 0h160v-160H620v160Z\"/>\n",
              "  </svg>\n",
              "    </button>\n",
              "\n",
              "  <style>\n",
              "    .colab-df-container {\n",
              "      display:flex;\n",
              "      gap: 12px;\n",
              "    }\n",
              "\n",
              "    .colab-df-convert {\n",
              "      background-color: #E8F0FE;\n",
              "      border: none;\n",
              "      border-radius: 50%;\n",
              "      cursor: pointer;\n",
              "      display: none;\n",
              "      fill: #1967D2;\n",
              "      height: 32px;\n",
              "      padding: 0 0 0 0;\n",
              "      width: 32px;\n",
              "    }\n",
              "\n",
              "    .colab-df-convert:hover {\n",
              "      background-color: #E2EBFA;\n",
              "      box-shadow: 0px 1px 2px rgba(60, 64, 67, 0.3), 0px 1px 3px 1px rgba(60, 64, 67, 0.15);\n",
              "      fill: #174EA6;\n",
              "    }\n",
              "\n",
              "    .colab-df-buttons div {\n",
              "      margin-bottom: 4px;\n",
              "    }\n",
              "\n",
              "    [theme=dark] .colab-df-convert {\n",
              "      background-color: #3B4455;\n",
              "      fill: #D2E3FC;\n",
              "    }\n",
              "\n",
              "    [theme=dark] .colab-df-convert:hover {\n",
              "      background-color: #434B5C;\n",
              "      box-shadow: 0px 1px 3px 1px rgba(0, 0, 0, 0.15);\n",
              "      filter: drop-shadow(0px 1px 2px rgba(0, 0, 0, 0.3));\n",
              "      fill: #FFFFFF;\n",
              "    }\n",
              "  </style>\n",
              "\n",
              "    <script>\n",
              "      const buttonEl =\n",
              "        document.querySelector('#df-cc382fb4-068b-4796-a70b-7083ed6153f0 button.colab-df-convert');\n",
              "      buttonEl.style.display =\n",
              "        google.colab.kernel.accessAllowed ? 'block' : 'none';\n",
              "\n",
              "      async function convertToInteractive(key) {\n",
              "        const element = document.querySelector('#df-cc382fb4-068b-4796-a70b-7083ed6153f0');\n",
              "        const dataTable =\n",
              "          await google.colab.kernel.invokeFunction('convertToInteractive',\n",
              "                                                    [key], {});\n",
              "        if (!dataTable) return;\n",
              "\n",
              "        const docLinkHtml = 'Like what you see? Visit the ' +\n",
              "          '<a target=\"_blank\" href=https://colab.research.google.com/notebooks/data_table.ipynb>data table notebook</a>'\n",
              "          + ' to learn more about interactive tables.';\n",
              "        element.innerHTML = '';\n",
              "        dataTable['output_type'] = 'display_data';\n",
              "        await google.colab.output.renderOutput(dataTable, element);\n",
              "        const docLink = document.createElement('div');\n",
              "        docLink.innerHTML = docLinkHtml;\n",
              "        element.appendChild(docLink);\n",
              "      }\n",
              "    </script>\n",
              "  </div>\n",
              "\n",
              "\n",
              "<div id=\"df-21baf9fa-dba5-483b-b0e2-ad6ec5ef29ef\">\n",
              "  <button class=\"colab-df-quickchart\" onclick=\"quickchart('df-21baf9fa-dba5-483b-b0e2-ad6ec5ef29ef')\"\n",
              "            title=\"Suggest charts\"\n",
              "            style=\"display:none;\">\n",
              "\n",
              "<svg xmlns=\"http://www.w3.org/2000/svg\" height=\"24px\"viewBox=\"0 0 24 24\"\n",
              "     width=\"24px\">\n",
              "    <g>\n",
              "        <path d=\"M19 3H5c-1.1 0-2 .9-2 2v14c0 1.1.9 2 2 2h14c1.1 0 2-.9 2-2V5c0-1.1-.9-2-2-2zM9 17H7v-7h2v7zm4 0h-2V7h2v10zm4 0h-2v-4h2v4z\"/>\n",
              "    </g>\n",
              "</svg>\n",
              "  </button>\n",
              "\n",
              "<style>\n",
              "  .colab-df-quickchart {\n",
              "      --bg-color: #E8F0FE;\n",
              "      --fill-color: #1967D2;\n",
              "      --hover-bg-color: #E2EBFA;\n",
              "      --hover-fill-color: #174EA6;\n",
              "      --disabled-fill-color: #AAA;\n",
              "      --disabled-bg-color: #DDD;\n",
              "  }\n",
              "\n",
              "  [theme=dark] .colab-df-quickchart {\n",
              "      --bg-color: #3B4455;\n",
              "      --fill-color: #D2E3FC;\n",
              "      --hover-bg-color: #434B5C;\n",
              "      --hover-fill-color: #FFFFFF;\n",
              "      --disabled-bg-color: #3B4455;\n",
              "      --disabled-fill-color: #666;\n",
              "  }\n",
              "\n",
              "  .colab-df-quickchart {\n",
              "    background-color: var(--bg-color);\n",
              "    border: none;\n",
              "    border-radius: 50%;\n",
              "    cursor: pointer;\n",
              "    display: none;\n",
              "    fill: var(--fill-color);\n",
              "    height: 32px;\n",
              "    padding: 0;\n",
              "    width: 32px;\n",
              "  }\n",
              "\n",
              "  .colab-df-quickchart:hover {\n",
              "    background-color: var(--hover-bg-color);\n",
              "    box-shadow: 0 1px 2px rgba(60, 64, 67, 0.3), 0 1px 3px 1px rgba(60, 64, 67, 0.15);\n",
              "    fill: var(--button-hover-fill-color);\n",
              "  }\n",
              "\n",
              "  .colab-df-quickchart-complete:disabled,\n",
              "  .colab-df-quickchart-complete:disabled:hover {\n",
              "    background-color: var(--disabled-bg-color);\n",
              "    fill: var(--disabled-fill-color);\n",
              "    box-shadow: none;\n",
              "  }\n",
              "\n",
              "  .colab-df-spinner {\n",
              "    border: 2px solid var(--fill-color);\n",
              "    border-color: transparent;\n",
              "    border-bottom-color: var(--fill-color);\n",
              "    animation:\n",
              "      spin 1s steps(1) infinite;\n",
              "  }\n",
              "\n",
              "  @keyframes spin {\n",
              "    0% {\n",
              "      border-color: transparent;\n",
              "      border-bottom-color: var(--fill-color);\n",
              "      border-left-color: var(--fill-color);\n",
              "    }\n",
              "    20% {\n",
              "      border-color: transparent;\n",
              "      border-left-color: var(--fill-color);\n",
              "      border-top-color: var(--fill-color);\n",
              "    }\n",
              "    30% {\n",
              "      border-color: transparent;\n",
              "      border-left-color: var(--fill-color);\n",
              "      border-top-color: var(--fill-color);\n",
              "      border-right-color: var(--fill-color);\n",
              "    }\n",
              "    40% {\n",
              "      border-color: transparent;\n",
              "      border-right-color: var(--fill-color);\n",
              "      border-top-color: var(--fill-color);\n",
              "    }\n",
              "    60% {\n",
              "      border-color: transparent;\n",
              "      border-right-color: var(--fill-color);\n",
              "    }\n",
              "    80% {\n",
              "      border-color: transparent;\n",
              "      border-right-color: var(--fill-color);\n",
              "      border-bottom-color: var(--fill-color);\n",
              "    }\n",
              "    90% {\n",
              "      border-color: transparent;\n",
              "      border-bottom-color: var(--fill-color);\n",
              "    }\n",
              "  }\n",
              "</style>\n",
              "\n",
              "  <script>\n",
              "    async function quickchart(key) {\n",
              "      const quickchartButtonEl =\n",
              "        document.querySelector('#' + key + ' button');\n",
              "      quickchartButtonEl.disabled = true;  // To prevent multiple clicks.\n",
              "      quickchartButtonEl.classList.add('colab-df-spinner');\n",
              "      try {\n",
              "        const charts = await google.colab.kernel.invokeFunction(\n",
              "            'suggestCharts', [key], {});\n",
              "      } catch (error) {\n",
              "        console.error('Error during call to suggestCharts:', error);\n",
              "      }\n",
              "      quickchartButtonEl.classList.remove('colab-df-spinner');\n",
              "      quickchartButtonEl.classList.add('colab-df-quickchart-complete');\n",
              "    }\n",
              "    (() => {\n",
              "      let quickchartButtonEl =\n",
              "        document.querySelector('#df-21baf9fa-dba5-483b-b0e2-ad6ec5ef29ef button');\n",
              "      quickchartButtonEl.style.display =\n",
              "        google.colab.kernel.accessAllowed ? 'block' : 'none';\n",
              "    })();\n",
              "  </script>\n",
              "</div>\n",
              "\n",
              "  <div id=\"id_0c558f26-b428-4200-b5fa-27118c9ae3a6\">\n",
              "    <style>\n",
              "      .colab-df-generate {\n",
              "        background-color: #E8F0FE;\n",
              "        border: none;\n",
              "        border-radius: 50%;\n",
              "        cursor: pointer;\n",
              "        display: none;\n",
              "        fill: #1967D2;\n",
              "        height: 32px;\n",
              "        padding: 0 0 0 0;\n",
              "        width: 32px;\n",
              "      }\n",
              "\n",
              "      .colab-df-generate:hover {\n",
              "        background-color: #E2EBFA;\n",
              "        box-shadow: 0px 1px 2px rgba(60, 64, 67, 0.3), 0px 1px 3px 1px rgba(60, 64, 67, 0.15);\n",
              "        fill: #174EA6;\n",
              "      }\n",
              "\n",
              "      [theme=dark] .colab-df-generate {\n",
              "        background-color: #3B4455;\n",
              "        fill: #D2E3FC;\n",
              "      }\n",
              "\n",
              "      [theme=dark] .colab-df-generate:hover {\n",
              "        background-color: #434B5C;\n",
              "        box-shadow: 0px 1px 3px 1px rgba(0, 0, 0, 0.15);\n",
              "        filter: drop-shadow(0px 1px 2px rgba(0, 0, 0, 0.3));\n",
              "        fill: #FFFFFF;\n",
              "      }\n",
              "    </style>\n",
              "    <button class=\"colab-df-generate\" onclick=\"generateWithVariable('consulta')\"\n",
              "            title=\"Generate code using this dataframe.\"\n",
              "            style=\"display:none;\">\n",
              "\n",
              "  <svg xmlns=\"http://www.w3.org/2000/svg\" height=\"24px\"viewBox=\"0 0 24 24\"\n",
              "       width=\"24px\">\n",
              "    <path d=\"M7,19H8.4L18.45,9,17,7.55,7,17.6ZM5,21V16.75L18.45,3.32a2,2,0,0,1,2.83,0l1.4,1.43a1.91,1.91,0,0,1,.58,1.4,1.91,1.91,0,0,1-.58,1.4L9.25,21ZM18.45,9,17,7.55Zm-12,3A5.31,5.31,0,0,0,4.9,8.1,5.31,5.31,0,0,0,1,6.5,5.31,5.31,0,0,0,4.9,4.9,5.31,5.31,0,0,0,6.5,1,5.31,5.31,0,0,0,8.1,4.9,5.31,5.31,0,0,0,12,6.5,5.46,5.46,0,0,0,6.5,12Z\"/>\n",
              "  </svg>\n",
              "    </button>\n",
              "    <script>\n",
              "      (() => {\n",
              "      const buttonEl =\n",
              "        document.querySelector('#id_0c558f26-b428-4200-b5fa-27118c9ae3a6 button.colab-df-generate');\n",
              "      buttonEl.style.display =\n",
              "        google.colab.kernel.accessAllowed ? 'block' : 'none';\n",
              "\n",
              "      buttonEl.onclick = () => {\n",
              "        google.colab.notebook.generateWithVariable('consulta');\n",
              "      }\n",
              "      })();\n",
              "    </script>\n",
              "  </div>\n",
              "\n",
              "    </div>\n",
              "  </div>\n"
            ],
            "application/vnd.google.colaboratory.intrinsic+json": {
              "type": "dataframe",
              "variable_name": "consulta",
              "summary": "{\n  \"name\": \"consulta\",\n  \"rows\": 2726,\n  \"fields\": [\n    {\n      \"column\": \"ANO\",\n      \"properties\": {\n        \"dtype\": \"number\",\n        \"std\": 0,\n        \"min\": 2022,\n        \"max\": 2022,\n        \"num_unique_values\": 1,\n        \"samples\": [\n          2022\n        ],\n        \"semantic_type\": \"\",\n        \"description\": \"\"\n      }\n    },\n    {\n      \"column\": \"TRIMESTRE\",\n      \"properties\": {\n        \"dtype\": \"number\",\n        \"std\": 0,\n        \"min\": 1,\n        \"max\": 1,\n        \"num_unique_values\": 1,\n        \"samples\": [\n          1\n        ],\n        \"semantic_type\": \"\",\n        \"description\": \"\"\n      }\n    },\n    {\n      \"column\": \"PROVEEDOR\",\n      \"properties\": {\n        \"dtype\": \"category\",\n        \"num_unique_values\": 5,\n        \"samples\": [\n          \"PARTNERS TELECOM COLOMBIA SAS\"\n        ],\n        \"semantic_type\": \"\",\n        \"description\": \"\"\n      }\n    },\n    {\n      \"column\": \"COD_DEPARTAMENTO\",\n      \"properties\": {\n        \"dtype\": \"number\",\n        \"std\": 26,\n        \"min\": 5,\n        \"max\": 99,\n        \"num_unique_values\": 33,\n        \"samples\": [\n          97\n        ],\n        \"semantic_type\": \"\",\n        \"description\": \"\"\n      }\n    },\n    {\n      \"column\": \"DEPARTAMENTO\",\n      \"properties\": {\n        \"dtype\": \"category\",\n        \"num_unique_values\": 33,\n        \"samples\": [\n          \"VAUP\\u00c9S\"\n        ],\n        \"semantic_type\": \"\",\n        \"description\": \"\"\n      }\n    },\n    {\n      \"column\": \"MUNICIPIO\",\n      \"properties\": {\n        \"dtype\": \"category\",\n        \"num_unique_values\": 1024,\n        \"samples\": [\n          \"CUNDAY\"\n        ],\n        \"semantic_type\": \"\",\n        \"description\": \"\"\n      }\n    },\n    {\n      \"column\": \"CAB_MUNICIPAL\",\n      \"properties\": {\n        \"dtype\": \"category\",\n        \"num_unique_values\": 2,\n        \"samples\": [\n          \"N\"\n        ],\n        \"semantic_type\": \"\",\n        \"description\": \"\"\n      }\n    },\n    {\n      \"column\": \"COBERT_2G\",\n      \"properties\": {\n        \"dtype\": \"category\",\n        \"num_unique_values\": 1,\n        \"samples\": [\n          \"N\"\n        ],\n        \"semantic_type\": \"\",\n        \"description\": \"\"\n      }\n    },\n    {\n      \"column\": \"COBERT_3G\",\n      \"properties\": {\n        \"dtype\": \"category\",\n        \"num_unique_values\": 2,\n        \"samples\": [\n          \"S\"\n        ],\n        \"semantic_type\": \"\",\n        \"description\": \"\"\n      }\n    },\n    {\n      \"column\": \"COBERT_4G\",\n      \"properties\": {\n        \"dtype\": \"category\",\n        \"num_unique_values\": 2,\n        \"samples\": [\n          \"N\"\n        ],\n        \"semantic_type\": \"\",\n        \"description\": \"\"\n      }\n    },\n    {\n      \"column\": \"COBERT_LTE\",\n      \"properties\": {\n        \"dtype\": \"category\",\n        \"num_unique_values\": 1,\n        \"samples\": [\n          \"N\"\n        ],\n        \"semantic_type\": \"\",\n        \"description\": \"\"\n      }\n    }\n  ]\n}"
            }
          },
          "metadata": {},
          "execution_count": 21
        }
      ]
    },
    {
      "cell_type": "markdown",
      "source": [
        "### gráfico de proveedores que no presentan servicio de 2G en el primer tercio de 2022"
      ],
      "metadata": {
        "id": "S4kfSdCCOP2S"
      }
    },
    {
      "source": [
        "consulta.groupby('PROVEEDOR').size().plot(kind='barh', color=sns.palettes.mpl_palette('Dark2'))\n",
        "plt.gca().spines[['top', 'right',]].set_visible(False)"
      ],
      "cell_type": "code",
      "execution_count": 22,
      "outputs": [
        {
          "output_type": "display_data",
          "data": {
            "text/plain": [
              "<Figure size 640x480 with 1 Axes>"
            ],
            "image/png": "[encoded data removed]"
          },
          "metadata": {}
        }
      ],
      "metadata": {
        "colab": {
          "base_uri": "https://localhost:8080/",
          "height": 430
        },
        "id": "mmwHyjdgI78o",
        "outputId": "c965b16e-439b-4f49-b14e-d868e7aa22e9"
      }
    },
    {
      "cell_type": "code",
      "source": [],
      "metadata": {
        "id": "PhJRawcXI3HI"
      },
      "execution_count": 22,
      "outputs": []
    },
    {
      "cell_type": "markdown",
      "source": [
        "## Proveedores por region en 2023"
      ],
      "metadata": {
        "id": "dwPZEDtIOrA1"
      }
    },
    {
      "cell_type": "code",
      "source": [
        "consulta2= cobertura.query('ANO ==2023')\n",
        "consulta2"
      ],
      "metadata": {
        "colab": {
          "base_uri": "https://localhost:8080/",
          "height": 545
        },
        "id": "iELxJOSkOzZd",
        "outputId": "3a018256-cd45-4140-b68f-b179b3795edf"
      },
      "execution_count": 23,
      "outputs": [
        {
          "output_type": "execute_result",
          "data": {
            "text/plain": [
              "         ANO  TRIMESTRE                                PROVEEDOR  \\\n",
              "198738  2023          3                  COLOMBIA MOVIL  S.A ESP   \n",
              "198739  2023          3  COLOMBIA TELECOMUNICACIONES S.A. E.S.P.   \n",
              "198740  2023          3            PARTNERS TELECOM COLOMBIA SAS   \n",
              "198741  2023          3                  COLOMBIA MOVIL  S.A ESP   \n",
              "198742  2023          3      COMUNICACION CELULAR S A COMCEL S A   \n",
              "...      ...        ...                                      ...   \n",
              "231738  2023          2      COMUNICACION CELULAR S A COMCEL S A   \n",
              "231739  2023          1  COLOMBIA TELECOMUNICACIONES S.A. E.S.P.   \n",
              "231740  2023          2      COMUNICACION CELULAR S A COMCEL S A   \n",
              "231741  2023          2            PARTNERS TELECOM COLOMBIA SAS   \n",
              "231742  2023          1  COLOMBIA TELECOMUNICACIONES S.A. E.S.P.   \n",
              "\n",
              "        COD_DEPARTAMENTO  DEPARTAMENTO                MUNICIPIO CAB_MUNICIPAL  \\\n",
              "198738                27         CHOCÓ  EL LITORAL DEL SAN JUAN             N   \n",
              "198739                 5     ANTIOQUIA                    NECHÍ             N   \n",
              "198740                15        BOYACÁ                CHINAVITA             S   \n",
              "198741                13       BOLÍVAR                  MAHATES             N   \n",
              "198742                25  CUNDINAMARCA                 RICAURTE             S   \n",
              "...                  ...           ...                      ...           ...   \n",
              "231738                25  CUNDINAMARCA                TOCANCIPÁ             N   \n",
              "231739                70         SUCRE                   MORROA             N   \n",
              "231740                18       CAQUETA     CARTAGENA DEL CHAIRÁ             N   \n",
              "231741                23       CÓRDOBA                 VALENCIA             S   \n",
              "231742                13       BOLÍVAR                     ACHÍ             N   \n",
              "\n",
              "       COBERT_2G COBERT_3G COBERT_4G COBERT_LTE  \n",
              "198738         N         N         S          N  \n",
              "198739         S         S         S          N  \n",
              "198740         N         S         N          N  \n",
              "198741         N         S         S          N  \n",
              "198742         S         S         S          N  \n",
              "...          ...       ...       ...        ...  \n",
              "231738         S         S         S          N  \n",
              "231739         S         N         N          N  \n",
              "231740         S         S         N          N  \n",
              "231741         N         S         S          N  \n",
              "231742         S         N         N          N  \n",
              "\n",
              "[33005 rows x 11 columns]"
            ],
            "text/html": [
              "\n",
              "  <div id=\"df-f3847fc6-b945-46de-9544-f716cc114b04\" class=\"colab-df-container\">\n",
              "    <div>\n",
              "<style scoped>\n",
              "    .dataframe tbody tr th:only-of-type {\n",
              "        vertical-align: middle;\n",
              "    }\n",
              "\n",
              "    .dataframe tbody tr th {\n",
              "        vertical-align: top;\n",
              "    }\n",
              "\n",
              "    .dataframe thead th {\n",
              "        text-align: right;\n",
              "    }\n",
              "</style>\n",
              "<table border=\"1\" class=\"dataframe\">\n",
              "  <thead>\n",
              "    <tr style=\"text-align: right;\">\n",
              "      <th></th>\n",
              "      <th>ANO</th>\n",
              "      <th>TRIMESTRE</th>\n",
              "      <th>PROVEEDOR</th>\n",
              "      <th>COD_DEPARTAMENTO</th>\n",
              "      <th>DEPARTAMENTO</th>\n",
              "      <th>MUNICIPIO</th>\n",
              "      <th>CAB_MUNICIPAL</th>\n",
              "      <th>COBERT_2G</th>\n",
              "      <th>COBERT_3G</th>\n",
              "      <th>COBERT_4G</th>\n",
              "      <th>COBERT_LTE</th>\n",
              "    </tr>\n",
              "  </thead>\n",
              "  <tbody>\n",
              "    <tr>\n",
              "      <th>198738</th>\n",
              "      <td>2023</td>\n",
              "      <td>3</td>\n",
              "      <td>COLOMBIA MOVIL  S.A ESP</td>\n",
              "      <td>27</td>\n",
              "      <td>CHOCÓ</td>\n",
              "      <td>EL LITORAL DEL SAN JUAN</td>\n",
              "      <td>N</td>\n",
              "      <td>N</td>\n",
              "      <td>N</td>\n",
              "      <td>S</td>\n",
              "      <td>N</td>\n",
              "    </tr>\n",
              "    <tr>\n",
              "      <th>198739</th>\n",
              "      <td>2023</td>\n",
              "      <td>3</td>\n",
              "      <td>COLOMBIA TELECOMUNICACIONES S.A. E.S.P.</td>\n",
              "      <td>5</td>\n",
              "      <td>ANTIOQUIA</td>\n",
              "      <td>NECHÍ</td>\n",
              "      <td>N</td>\n",
              "      <td>S</td>\n",
              "      <td>S</td>\n",
              "      <td>S</td>\n",
              "      <td>N</td>\n",
              "    </tr>\n",
              "    <tr>\n",
              "      <th>198740</th>\n",
              "      <td>2023</td>\n",
              "      <td>3</td>\n",
              "      <td>PARTNERS TELECOM COLOMBIA SAS</td>\n",
              "      <td>15</td>\n",
              "      <td>BOYACÁ</td>\n",
              "      <td>CHINAVITA</td>\n",
              "      <td>S</td>\n",
              "      <td>N</td>\n",
              "      <td>S</td>\n",
              "      <td>N</td>\n",
              "      <td>N</td>\n",
              "    </tr>\n",
              "    <tr>\n",
              "      <th>198741</th>\n",
              "      <td>2023</td>\n",
              "      <td>3</td>\n",
              "      <td>COLOMBIA MOVIL  S.A ESP</td>\n",
              "      <td>13</td>\n",
              "      <td>BOLÍVAR</td>\n",
              "      <td>MAHATES</td>\n",
              "      <td>N</td>\n",
              "      <td>N</td>\n",
              "      <td>S</td>\n",
              "      <td>S</td>\n",
              "      <td>N</td>\n",
              "    </tr>\n",
              "    <tr>\n",
              "      <th>198742</th>\n",
              "      <td>2023</td>\n",
              "      <td>3</td>\n",
              "      <td>COMUNICACION CELULAR S A COMCEL S A</td>\n",
              "      <td>25</td>\n",
              "      <td>CUNDINAMARCA</td>\n",
              "      <td>RICAURTE</td>\n",
              "      <td>S</td>\n",
              "      <td>S</td>\n",
              "      <td>S</td>\n",
              "      <td>S</td>\n",
              "      <td>N</td>\n",
              "    </tr>\n",
              "    <tr>\n",
              "      <th>...</th>\n",
              "      <td>...</td>\n",
              "      <td>...</td>\n",
              "      <td>...</td>\n",
              "      <td>...</td>\n",
              "      <td>...</td>\n",
              "      <td>...</td>\n",
              "      <td>...</td>\n",
              "      <td>...</td>\n",
              "      <td>...</td>\n",
              "      <td>...</td>\n",
              "      <td>...</td>\n",
              "    </tr>\n",
              "    <tr>\n",
              "      <th>231738</th>\n",
              "      <td>2023</td>\n",
              "      <td>2</td>\n",
              "      <td>COMUNICACION CELULAR S A COMCEL S A</td>\n",
              "      <td>25</td>\n",
              "      <td>CUNDINAMARCA</td>\n",
              "      <td>TOCANCIPÁ</td>\n",
              "      <td>N</td>\n",
              "      <td>S</td>\n",
              "      <td>S</td>\n",
              "      <td>S</td>\n",
              "      <td>N</td>\n",
              "    </tr>\n",
              "    <tr>\n",
              "      <th>231739</th>\n",
              "      <td>2023</td>\n",
              "      <td>1</td>\n",
              "      <td>COLOMBIA TELECOMUNICACIONES S.A. E.S.P.</td>\n",
              "      <td>70</td>\n",
              "      <td>SUCRE</td>\n",
              "      <td>MORROA</td>\n",
              "      <td>N</td>\n",
              "      <td>S</td>\n",
              "      <td>N</td>\n",
              "      <td>N</td>\n",
              "      <td>N</td>\n",
              "    </tr>\n",
              "    <tr>\n",
              "      <th>231740</th>\n",
              "      <td>2023</td>\n",
              "      <td>2</td>\n",
              "      <td>COMUNICACION CELULAR S A COMCEL S A</td>\n",
              "      <td>18</td>\n",
              "      <td>CAQUETA</td>\n",
              "      <td>CARTAGENA DEL CHAIRÁ</td>\n",
              "      <td>N</td>\n",
              "      <td>S</td>\n",
              "      <td>S</td>\n",
              "      <td>N</td>\n",
              "      <td>N</td>\n",
              "    </tr>\n",
              "    <tr>\n",
              "      <th>231741</th>\n",
              "      <td>2023</td>\n",
              "      <td>2</td>\n",
              "      <td>PARTNERS TELECOM COLOMBIA SAS</td>\n",
              "      <td>23</td>\n",
              "      <td>CÓRDOBA</td>\n",
              "      <td>VALENCIA</td>\n",
              "      <td>S</td>\n",
              "      <td>N</td>\n",
              "      <td>S</td>\n",
              "      <td>S</td>\n",
              "      <td>N</td>\n",
              "    </tr>\n",
              "    <tr>\n",
              "      <th>231742</th>\n",
              "      <td>2023</td>\n",
              "      <td>1</td>\n",
              "      <td>COLOMBIA TELECOMUNICACIONES S.A. E.S.P.</td>\n",
              "      <td>13</td>\n",
              "      <td>BOLÍVAR</td>\n",
              "      <td>ACHÍ</td>\n",
              "      <td>N</td>\n",
              "      <td>S</td>\n",
              "      <td>N</td>\n",
              "      <td>N</td>\n",
              "      <td>N</td>\n",
              "    </tr>\n",
              "  </tbody>\n",
              "</table>\n",
              "<p>33005 rows × 11 columns</p>\n",
              "</div>\n",
              "    <div class=\"colab-df-buttons\">\n",
              "\n",
              "  <div class=\"colab-df-container\">\n",
              "    <button class=\"colab-df-convert\" onclick=\"convertToInteractive('df-f3847fc6-b945-46de-9544-f716cc114b04')\"\n",
              "            title=\"Convert this dataframe to an interactive table.\"\n",
              "            style=\"display:none;\">\n",
              "\n",
              "  <svg xmlns=\"http://www.w3.org/2000/svg\" height=\"24px\" viewBox=\"0 -960 960 960\">\n",
              "    <path d=\"M120-120v-720h720v720H120Zm60-500h600v-160H180v160Zm220 220h160v-160H400v160Zm0 220h160v-160H400v160ZM180-400h160v-160H180v160Zm440 0h160v-160H620v160ZM180-180h160v-160H180v160Zm440 0h160v-160H620v160Z\"/>\n",
              "  </svg>\n",
              "    </button>\n",
              "\n",
              "  <style>\n",
              "    .colab-df-container {\n",
              "      display:flex;\n",
              "      gap: 12px;\n",
              "    }\n",
              "\n",
              "    .colab-df-convert {\n",
              "      background-color: #E8F0FE;\n",
              "      border: none;\n",
              "      border-radius: 50%;\n",
              "      cursor: pointer;\n",
              "      display: none;\n",
              "      fill: #1967D2;\n",
              "      height: 32px;\n",
              "      padding: 0 0 0 0;\n",
              "      width: 32px;\n",
              "    }\n",
              "\n",
              "    .colab-df-convert:hover {\n",
              "      background-color: #E2EBFA;\n",
              "      box-shadow: 0px 1px 2px rgba(60, 64, 67, 0.3), 0px 1px 3px 1px rgba(60, 64, 67, 0.15);\n",
              "      fill: #174EA6;\n",
              "    }\n",
              "\n",
              "    .colab-df-buttons div {\n",
              "      margin-bottom: 4px;\n",
              "    }\n",
              "\n",
              "    [theme=dark] .colab-df-convert {\n",
              "      background-color: #3B4455;\n",
              "      fill: #D2E3FC;\n",
              "    }\n",
              "\n",
              "    [theme=dark] .colab-df-convert:hover {\n",
              "      background-color: #434B5C;\n",
              "      box-shadow: 0px 1px 3px 1px rgba(0, 0, 0, 0.15);\n",
              "      filter: drop-shadow(0px 1px 2px rgba(0, 0, 0, 0.3));\n",
              "      fill: #FFFFFF;\n",
              "    }\n",
              "  </style>\n",
              "\n",
              "    <script>\n",
              "      const buttonEl =\n",
              "        document.querySelector('#df-f3847fc6-b945-46de-9544-f716cc114b04 button.colab-df-convert');\n",
              "      buttonEl.style.display =\n",
              "        google.colab.kernel.accessAllowed ? 'block' : 'none';\n",
              "\n",
              "      async function convertToInteractive(key) {\n",
              "        const element = document.querySelector('#df-f3847fc6-b945-46de-9544-f716cc114b04');\n",
              "        const dataTable =\n",
              "          await google.colab.kernel.invokeFunction('convertToInteractive',\n",
              "                                                    [key], {});\n",
              "        if (!dataTable) return;\n",
              "\n",
              "        const docLinkHtml = 'Like what you see? Visit the ' +\n",
              "          '<a target=\"_blank\" href=https://colab.research.google.com/notebooks/data_table.ipynb>data table notebook</a>'\n",
              "          + ' to learn more about interactive tables.';\n",
              "        element.innerHTML = '';\n",
              "        dataTable['output_type'] = 'display_data';\n",
              "        await google.colab.output.renderOutput(dataTable, element);\n",
              "        const docLink = document.createElement('div');\n",
              "        docLink.innerHTML = docLinkHtml;\n",
              "        element.appendChild(docLink);\n",
              "      }\n",
              "    </script>\n",
              "  </div>\n",
              "\n",
              "\n",
              "<div id=\"df-fd191b02-d1ce-450f-8092-7b318cf6ab8c\">\n",
              "  <button class=\"colab-df-quickchart\" onclick=\"quickchart('df-fd191b02-d1ce-450f-8092-7b318cf6ab8c')\"\n",
              "            title=\"Suggest charts\"\n",
              "            style=\"display:none;\">\n",
              "\n",
              "<svg xmlns=\"http://www.w3.org/2000/svg\" height=\"24px\"viewBox=\"0 0 24 24\"\n",
              "     width=\"24px\">\n",
              "    <g>\n",
              "        <path d=\"M19 3H5c-1.1 0-2 .9-2 2v14c0 1.1.9 2 2 2h14c1.1 0 2-.9 2-2V5c0-1.1-.9-2-2-2zM9 17H7v-7h2v7zm4 0h-2V7h2v10zm4 0h-2v-4h2v4z\"/>\n",
              "    </g>\n",
              "</svg>\n",
              "  </button>\n",
              "\n",
              "<style>\n",
              "  .colab-df-quickchart {\n",
              "      --bg-color: #E8F0FE;\n",
              "      --fill-color: #1967D2;\n",
              "      --hover-bg-color: #E2EBFA;\n",
              "      --hover-fill-color: #174EA6;\n",
              "      --disabled-fill-color: #AAA;\n",
              "      --disabled-bg-color: #DDD;\n",
              "  }\n",
              "\n",
              "  [theme=dark] .colab-df-quickchart {\n",
              "      --bg-color: #3B4455;\n",
              "      --fill-color: #D2E3FC;\n",
              "      --hover-bg-color: #434B5C;\n",
              "      --hover-fill-color: #FFFFFF;\n",
              "      --disabled-bg-color: #3B4455;\n",
              "      --disabled-fill-color: #666;\n",
              "  }\n",
              "\n",
              "  .colab-df-quickchart {\n",
              "    background-color: var(--bg-color);\n",
              "    border: none;\n",
              "    border-radius: 50%;\n",
              "    cursor: pointer;\n",
              "    display: none;\n",
              "    fill: var(--fill-color);\n",
              "    height: 32px;\n",
              "    padding: 0;\n",
              "    width: 32px;\n",
              "  }\n",
              "\n",
              "  .colab-df-quickchart:hover {\n",
              "    background-color: var(--hover-bg-color);\n",
              "    box-shadow: 0 1px 2px rgba(60, 64, 67, 0.3), 0 1px 3px 1px rgba(60, 64, 67, 0.15);\n",
              "    fill: var(--button-hover-fill-color);\n",
              "  }\n",
              "\n",
              "  .colab-df-quickchart-complete:disabled,\n",
              "  .colab-df-quickchart-complete:disabled:hover {\n",
              "    background-color: var(--disabled-bg-color);\n",
              "    fill: var(--disabled-fill-color);\n",
              "    box-shadow: none;\n",
              "  }\n",
              "\n",
              "  .colab-df-spinner {\n",
              "    border: 2px solid var(--fill-color);\n",
              "    border-color: transparent;\n",
              "    border-bottom-color: var(--fill-color);\n",
              "    animation:\n",
              "      spin 1s steps(1) infinite;\n",
              "  }\n",
              "\n",
              "  @keyframes spin {\n",
              "    0% {\n",
              "      border-color: transparent;\n",
              "      border-bottom-color: var(--fill-color);\n",
              "      border-left-color: var(--fill-color);\n",
              "    }\n",
              "    20% {\n",
              "      border-color: transparent;\n",
              "      border-left-color: var(--fill-color);\n",
              "      border-top-color: var(--fill-color);\n",
              "    }\n",
              "    30% {\n",
              "      border-color: transparent;\n",
              "      border-left-color: var(--fill-color);\n",
              "      border-top-color: var(--fill-color);\n",
              "      border-right-color: var(--fill-color);\n",
              "    }\n",
              "    40% {\n",
              "      border-color: transparent;\n",
              "      border-right-color: var(--fill-color);\n",
              "      border-top-color: var(--fill-color);\n",
              "    }\n",
              "    60% {\n",
              "      border-color: transparent;\n",
              "      border-right-color: var(--fill-color);\n",
              "    }\n",
              "    80% {\n",
              "      border-color: transparent;\n",
              "      border-right-color: var(--fill-color);\n",
              "      border-bottom-color: var(--fill-color);\n",
              "    }\n",
              "    90% {\n",
              "      border-color: transparent;\n",
              "      border-bottom-color: var(--fill-color);\n",
              "    }\n",
              "  }\n",
              "</style>\n",
              "\n",
              "  <script>\n",
              "    async function quickchart(key) {\n",
              "      const quickchartButtonEl =\n",
              "        document.querySelector('#' + key + ' button');\n",
              "      quickchartButtonEl.disabled = true;  // To prevent multiple clicks.\n",
              "      quickchartButtonEl.classList.add('colab-df-spinner');\n",
              "      try {\n",
              "        const charts = await google.colab.kernel.invokeFunction(\n",
              "            'suggestCharts', [key], {});\n",
              "      } catch (error) {\n",
              "        console.error('Error during call to suggestCharts:', error);\n",
              "      }\n",
              "      quickchartButtonEl.classList.remove('colab-df-spinner');\n",
              "      quickchartButtonEl.classList.add('colab-df-quickchart-complete');\n",
              "    }\n",
              "    (() => {\n",
              "      let quickchartButtonEl =\n",
              "        document.querySelector('#df-fd191b02-d1ce-450f-8092-7b318cf6ab8c button');\n",
              "      quickchartButtonEl.style.display =\n",
              "        google.colab.kernel.accessAllowed ? 'block' : 'none';\n",
              "    })();\n",
              "  </script>\n",
              "</div>\n",
              "\n",
              "  <div id=\"id_85a44ed8-22b4-4a74-a3d0-ac5c93583885\">\n",
              "    <style>\n",
              "      .colab-df-generate {\n",
              "        background-color: #E8F0FE;\n",
              "        border: none;\n",
              "        border-radius: 50%;\n",
              "        cursor: pointer;\n",
              "        display: none;\n",
              "        fill: #1967D2;\n",
              "        height: 32px;\n",
              "        padding: 0 0 0 0;\n",
              "        width: 32px;\n",
              "      }\n",
              "\n",
              "      .colab-df-generate:hover {\n",
              "        background-color: #E2EBFA;\n",
              "        box-shadow: 0px 1px 2px rgba(60, 64, 67, 0.3), 0px 1px 3px 1px rgba(60, 64, 67, 0.15);\n",
              "        fill: #174EA6;\n",
              "      }\n",
              "\n",
              "      [theme=dark] .colab-df-generate {\n",
              "        background-color: #3B4455;\n",
              "        fill: #D2E3FC;\n",
              "      }\n",
              "\n",
              "      [theme=dark] .colab-df-generate:hover {\n",
              "        background-color: #434B5C;\n",
              "        box-shadow: 0px 1px 3px 1px rgba(0, 0, 0, 0.15);\n",
              "        filter: drop-shadow(0px 1px 2px rgba(0, 0, 0, 0.3));\n",
              "        fill: #FFFFFF;\n",
              "      }\n",
              "    </style>\n",
              "    <button class=\"colab-df-generate\" onclick=\"generateWithVariable('consulta2')\"\n",
              "            title=\"Generate code using this dataframe.\"\n",
              "            style=\"display:none;\">\n",
              "\n",
              "  <svg xmlns=\"http://www.w3.org/2000/svg\" height=\"24px\"viewBox=\"0 0 24 24\"\n",
              "       width=\"24px\">\n",
              "    <path d=\"M7,19H8.4L18.45,9,17,7.55,7,17.6ZM5,21V16.75L18.45,3.32a2,2,0,0,1,2.83,0l1.4,1.43a1.91,1.91,0,0,1,.58,1.4,1.91,1.91,0,0,1-.58,1.4L9.25,21ZM18.45,9,17,7.55Zm-12,3A5.31,5.31,0,0,0,4.9,8.1,5.31,5.31,0,0,0,1,6.5,5.31,5.31,0,0,0,4.9,4.9,5.31,5.31,0,0,0,6.5,1,5.31,5.31,0,0,0,8.1,4.9,5.31,5.31,0,0,0,12,6.5,5.46,5.46,0,0,0,6.5,12Z\"/>\n",
              "  </svg>\n",
              "    </button>\n",
              "    <script>\n",
              "      (() => {\n",
              "      const buttonEl =\n",
              "        document.querySelector('#id_85a44ed8-22b4-4a74-a3d0-ac5c93583885 button.colab-df-generate');\n",
              "      buttonEl.style.display =\n",
              "        google.colab.kernel.accessAllowed ? 'block' : 'none';\n",
              "\n",
              "      buttonEl.onclick = () => {\n",
              "        google.colab.notebook.generateWithVariable('consulta2');\n",
              "      }\n",
              "      })();\n",
              "    </script>\n",
              "  </div>\n",
              "\n",
              "    </div>\n",
              "  </div>\n"
            ],
            "application/vnd.google.colaboratory.intrinsic+json": {
              "type": "dataframe",
              "variable_name": "consulta2",
              "summary": "{\n  \"name\": \"consulta2\",\n  \"rows\": 33005,\n  \"fields\": [\n    {\n      \"column\": \"ANO\",\n      \"properties\": {\n        \"dtype\": \"number\",\n        \"std\": 0,\n        \"min\": 2023,\n        \"max\": 2023,\n        \"num_unique_values\": 1,\n        \"samples\": [\n          2023\n        ],\n        \"semantic_type\": \"\",\n        \"description\": \"\"\n      }\n    },\n    {\n      \"column\": \"TRIMESTRE\",\n      \"properties\": {\n        \"dtype\": \"number\",\n        \"std\": 0,\n        \"min\": 1,\n        \"max\": 3,\n        \"num_unique_values\": 3,\n        \"samples\": [\n          3\n        ],\n        \"semantic_type\": \"\",\n        \"description\": \"\"\n      }\n    },\n    {\n      \"column\": \"PROVEEDOR\",\n      \"properties\": {\n        \"dtype\": \"category\",\n        \"num_unique_values\": 4,\n        \"samples\": [\n          \"COLOMBIA TELECOMUNICACIONES S.A. E.S.P.\"\n        ],\n        \"semantic_type\": \"\",\n        \"description\": \"\"\n      }\n    },\n    {\n      \"column\": \"COD_DEPARTAMENTO\",\n      \"properties\": {\n        \"dtype\": \"number\",\n        \"std\": 25,\n        \"min\": 5,\n        \"max\": 99,\n        \"num_unique_values\": 33,\n        \"samples\": [\n          91\n        ],\n        \"semantic_type\": \"\",\n        \"description\": \"\"\n      }\n    },\n    {\n      \"column\": \"DEPARTAMENTO\",\n      \"properties\": {\n        \"dtype\": \"category\",\n        \"num_unique_values\": 33,\n        \"samples\": [\n          \"AMAZONAS\"\n        ],\n        \"semantic_type\": \"\",\n        \"description\": \"\"\n      }\n    },\n    {\n      \"column\": \"MUNICIPIO\",\n      \"properties\": {\n        \"dtype\": \"category\",\n        \"num_unique_values\": 1036,\n        \"samples\": [\n          \"LA ESTRELLA\"\n        ],\n        \"semantic_type\": \"\",\n        \"description\": \"\"\n      }\n    },\n    {\n      \"column\": \"CAB_MUNICIPAL\",\n      \"properties\": {\n        \"dtype\": \"category\",\n        \"num_unique_values\": 2,\n        \"samples\": [\n          \"S\"\n        ],\n        \"semantic_type\": \"\",\n        \"description\": \"\"\n      }\n    },\n    {\n      \"column\": \"COBERT_2G\",\n      \"properties\": {\n        \"dtype\": \"category\",\n        \"num_unique_values\": 2,\n        \"samples\": [\n          \"S\"\n        ],\n        \"semantic_type\": \"\",\n        \"description\": \"\"\n      }\n    },\n    {\n      \"column\": \"COBERT_3G\",\n      \"properties\": {\n        \"dtype\": \"category\",\n        \"num_unique_values\": 2,\n        \"samples\": [\n          \"S\"\n        ],\n        \"semantic_type\": \"\",\n        \"description\": \"\"\n      }\n    },\n    {\n      \"column\": \"COBERT_4G\",\n      \"properties\": {\n        \"dtype\": \"category\",\n        \"num_unique_values\": 2,\n        \"samples\": [\n          \"N\"\n        ],\n        \"semantic_type\": \"\",\n        \"description\": \"\"\n      }\n    },\n    {\n      \"column\": \"COBERT_LTE\",\n      \"properties\": {\n        \"dtype\": \"category\",\n        \"num_unique_values\": 1,\n        \"samples\": [\n          \"N\"\n        ],\n        \"semantic_type\": \"\",\n        \"description\": \"\"\n      }\n    }\n  ]\n}"
            }
          },
          "metadata": {},
          "execution_count": 23
        }
      ]
    },
    {
      "cell_type": "markdown",
      "source": [
        "## Departamentos que tienen cobertura 2G, 3G y 4G"
      ],
      "metadata": {
        "id": "3aiitBcUPhwb"
      }
    },
    {
      "cell_type": "code",
      "source": [
        "consulta3= cobertura.query('COBERT_2G == \"S\" and COBERT_3G == \"S\" and COBERT_4G == \"S\" ')\n",
        "consulta3"
      ],
      "metadata": {
        "colab": {
          "base_uri": "https://localhost:8080/",
          "height": 563
        },
        "id": "A4eEdBR1P1HY",
        "outputId": "6c67c3a8-5ad6-4328-906a-59d0eaa34098"
      },
      "execution_count": 24,
      "outputs": [
        {
          "output_type": "execute_result",
          "data": {
            "text/plain": [
              "         ANO  TRIMESTRE                                PROVEEDOR  \\\n",
              "104474  2021          2      COMUNICACION CELULAR S A COMCEL S A   \n",
              "104478  2021          3  COLOMBIA TELECOMUNICACIONES S.A. E.S.P.   \n",
              "104480  2021          4                  COLOMBIA MOVIL  S.A ESP   \n",
              "104489  2021          3      COMUNICACION CELULAR S A COMCEL S A   \n",
              "104492  2021          3      COMUNICACION CELULAR S A COMCEL S A   \n",
              "...      ...        ...                                      ...   \n",
              "231733  2023          1      COMUNICACION CELULAR S A COMCEL S A   \n",
              "231735  2023          3  COLOMBIA TELECOMUNICACIONES S.A. E.S.P.   \n",
              "231736  2023          2  COLOMBIA TELECOMUNICACIONES S.A. E.S.P.   \n",
              "231737  2023          1                  COLOMBIA MOVIL  S.A ESP   \n",
              "231738  2023          2      COMUNICACION CELULAR S A COMCEL S A   \n",
              "\n",
              "        COD_DEPARTAMENTO     DEPARTAMENTO          MUNICIPIO CAB_MUNICIPAL  \\\n",
              "104474                50             META  CASTILLA LA NUEVA             N   \n",
              "104478                25     CUNDINAMARCA        VILLAPINZÓN             S   \n",
              "104480                52           NARIÑO      OLAYA HERRERA             S   \n",
              "104489                52           NARIÑO              PASTO             S   \n",
              "104492                20            CESAR         VALLEDUPAR             N   \n",
              "...                  ...              ...                ...           ...   \n",
              "231733                91         AMAZONAS            LETICIA             N   \n",
              "231735                68        SANTANDER             MÁLAGA             S   \n",
              "231736                76  VALLE DEL CAUCA         EL CERRITO             N   \n",
              "231737                18          CAQUETA             SOLITA             S   \n",
              "231738                25     CUNDINAMARCA          TOCANCIPÁ             N   \n",
              "\n",
              "       COBERT_2G COBERT_3G COBERT_4G COBERT_LTE  \n",
              "104474         S         S         S          N  \n",
              "104478         S         S         S          N  \n",
              "104480         S         S         S          N  \n",
              "104489         S         S         S          N  \n",
              "104492         S         S         S          N  \n",
              "...          ...       ...       ...        ...  \n",
              "231733         S         S         S          N  \n",
              "231735         S         S         S          N  \n",
              "231736         S         S         S          N  \n",
              "231737         S         S         S          N  \n",
              "231738         S         S         S          N  \n",
              "\n",
              "[51094 rows x 11 columns]"
            ],
            "text/html": [
              "\n",
              "  <div id=\"df-3d674041-8ffb-4270-b91d-acfe22eb7114\" class=\"colab-df-container\">\n",
              "    <div>\n",
              "<style scoped>\n",
              "    .dataframe tbody tr th:only-of-type {\n",
              "        vertical-align: middle;\n",
              "    }\n",
              "\n",
              "    .dataframe tbody tr th {\n",
              "        vertical-align: top;\n",
              "    }\n",
              "\n",
              "    .dataframe thead th {\n",
              "        text-align: right;\n",
              "    }\n",
              "</style>\n",
              "<table border=\"1\" class=\"dataframe\">\n",
              "  <thead>\n",
              "    <tr style=\"text-align: right;\">\n",
              "      <th></th>\n",
              "      <th>ANO</th>\n",
              "      <th>TRIMESTRE</th>\n",
              "      <th>PROVEEDOR</th>\n",
              "      <th>COD_DEPARTAMENTO</th>\n",
              "      <th>DEPARTAMENTO</th>\n",
              "      <th>MUNICIPIO</th>\n",
              "      <th>CAB_MUNICIPAL</th>\n",
              "      <th>COBERT_2G</th>\n",
              "      <th>COBERT_3G</th>\n",
              "      <th>COBERT_4G</th>\n",
              "      <th>COBERT_LTE</th>\n",
              "    </tr>\n",
              "  </thead>\n",
              "  <tbody>\n",
              "    <tr>\n",
              "      <th>104474</th>\n",
              "      <td>2021</td>\n",
              "      <td>2</td>\n",
              "      <td>COMUNICACION CELULAR S A COMCEL S A</td>\n",
              "      <td>50</td>\n",
              "      <td>META</td>\n",
              "      <td>CASTILLA LA NUEVA</td>\n",
              "      <td>N</td>\n",
              "      <td>S</td>\n",
              "      <td>S</td>\n",
              "      <td>S</td>\n",
              "      <td>N</td>\n",
              "    </tr>\n",
              "    <tr>\n",
              "      <th>104478</th>\n",
              "      <td>2021</td>\n",
              "      <td>3</td>\n",
              "      <td>COLOMBIA TELECOMUNICACIONES S.A. E.S.P.</td>\n",
              "      <td>25</td>\n",
              "      <td>CUNDINAMARCA</td>\n",
              "      <td>VILLAPINZÓN</td>\n",
              "      <td>S</td>\n",
              "      <td>S</td>\n",
              "      <td>S</td>\n",
              "      <td>S</td>\n",
              "      <td>N</td>\n",
              "    </tr>\n",
              "    <tr>\n",
              "      <th>104480</th>\n",
              "      <td>2021</td>\n",
              "      <td>4</td>\n",
              "      <td>COLOMBIA MOVIL  S.A ESP</td>\n",
              "      <td>52</td>\n",
              "      <td>NARIÑO</td>\n",
              "      <td>OLAYA HERRERA</td>\n",
              "      <td>S</td>\n",
              "      <td>S</td>\n",
              "      <td>S</td>\n",
              "      <td>S</td>\n",
              "      <td>N</td>\n",
              "    </tr>\n",
              "    <tr>\n",
              "      <th>104489</th>\n",
              "      <td>2021</td>\n",
              "      <td>3</td>\n",
              "      <td>COMUNICACION CELULAR S A COMCEL S A</td>\n",
              "      <td>52</td>\n",
              "      <td>NARIÑO</td>\n",
              "      <td>PASTO</td>\n",
              "      <td>S</td>\n",
              "      <td>S</td>\n",
              "      <td>S</td>\n",
              "      <td>S</td>\n",
              "      <td>N</td>\n",
              "    </tr>\n",
              "    <tr>\n",
              "      <th>104492</th>\n",
              "      <td>2021</td>\n",
              "      <td>3</td>\n",
              "      <td>COMUNICACION CELULAR S A COMCEL S A</td>\n",
              "      <td>20</td>\n",
              "      <td>CESAR</td>\n",
              "      <td>VALLEDUPAR</td>\n",
              "      <td>N</td>\n",
              "      <td>S</td>\n",
              "      <td>S</td>\n",
              "      <td>S</td>\n",
              "      <td>N</td>\n",
              "    </tr>\n",
              "    <tr>\n",
              "      <th>...</th>\n",
              "      <td>...</td>\n",
              "      <td>...</td>\n",
              "      <td>...</td>\n",
              "      <td>...</td>\n",
              "      <td>...</td>\n",
              "      <td>...</td>\n",
              "      <td>...</td>\n",
              "      <td>...</td>\n",
              "      <td>...</td>\n",
              "      <td>...</td>\n",
              "      <td>...</td>\n",
              "    </tr>\n",
              "    <tr>\n",
              "      <th>231733</th>\n",
              "      <td>2023</td>\n",
              "      <td>1</td>\n",
              "      <td>COMUNICACION CELULAR S A COMCEL S A</td>\n",
              "      <td>91</td>\n",
              "      <td>AMAZONAS</td>\n",
              "      <td>LETICIA</td>\n",
              "      <td>N</td>\n",
              "      <td>S</td>\n",
              "      <td>S</td>\n",
              "      <td>S</td>\n",
              "      <td>N</td>\n",
              "    </tr>\n",
              "    <tr>\n",
              "      <th>231735</th>\n",
              "      <td>2023</td>\n",
              "      <td>3</td>\n",
              "      <td>COLOMBIA TELECOMUNICACIONES S.A. E.S.P.</td>\n",
              "      <td>68</td>\n",
              "      <td>SANTANDER</td>\n",
              "      <td>MÁLAGA</td>\n",
              "      <td>S</td>\n",
              "      <td>S</td>\n",
              "      <td>S</td>\n",
              "      <td>S</td>\n",
              "      <td>N</td>\n",
              "    </tr>\n",
              "    <tr>\n",
              "      <th>231736</th>\n",
              "      <td>2023</td>\n",
              "      <td>2</td>\n",
              "      <td>COLOMBIA TELECOMUNICACIONES S.A. E.S.P.</td>\n",
              "      <td>76</td>\n",
              "      <td>VALLE DEL CAUCA</td>\n",
              "      <td>EL CERRITO</td>\n",
              "      <td>N</td>\n",
              "      <td>S</td>\n",
              "      <td>S</td>\n",
              "      <td>S</td>\n",
              "      <td>N</td>\n",
              "    </tr>\n",
              "    <tr>\n",
              "      <th>231737</th>\n",
              "      <td>2023</td>\n",
              "      <td>1</td>\n",
              "      <td>COLOMBIA MOVIL  S.A ESP</td>\n",
              "      <td>18</td>\n",
              "      <td>CAQUETA</td>\n",
              "      <td>SOLITA</td>\n",
              "      <td>S</td>\n",
              "      <td>S</td>\n",
              "      <td>S</td>\n",
              "      <td>S</td>\n",
              "      <td>N</td>\n",
              "    </tr>\n",
              "    <tr>\n",
              "      <th>231738</th>\n",
              "      <td>2023</td>\n",
              "      <td>2</td>\n",
              "      <td>COMUNICACION CELULAR S A COMCEL S A</td>\n",
              "      <td>25</td>\n",
              "      <td>CUNDINAMARCA</td>\n",
              "      <td>TOCANCIPÁ</td>\n",
              "      <td>N</td>\n",
              "      <td>S</td>\n",
              "      <td>S</td>\n",
              "      <td>S</td>\n",
              "      <td>N</td>\n",
              "    </tr>\n",
              "  </tbody>\n",
              "</table>\n",
              "<p>51094 rows × 11 columns</p>\n",
              "</div>\n",
              "    <div class=\"colab-df-buttons\">\n",
              "\n",
              "  <div class=\"colab-df-container\">\n",
              "    <button class=\"colab-df-convert\" onclick=\"convertToInteractive('df-3d674041-8ffb-4270-b91d-acfe22eb7114')\"\n",
              "            title=\"Convert this dataframe to an interactive table.\"\n",
              "            style=\"display:none;\">\n",
              "\n",
              "  <svg xmlns=\"http://www.w3.org/2000/svg\" height=\"24px\" viewBox=\"0 -960 960 960\">\n",
              "    <path d=\"M120-120v-720h720v720H120Zm60-500h600v-160H180v160Zm220 220h160v-160H400v160Zm0 220h160v-160H400v160ZM180-400h160v-160H180v160Zm440 0h160v-160H620v160ZM180-180h160v-160H180v160Zm440 0h160v-160H620v160Z\"/>\n",
              "  </svg>\n",
              "    </button>\n",
              "\n",
              "  <style>\n",
              "    .colab-df-container {\n",
              "      display:flex;\n",
              "      gap: 12px;\n",
              "    }\n",
              "\n",
              "    .colab-df-convert {\n",
              "      background-color: #E8F0FE;\n",
              "      border: none;\n",
              "      border-radius: 50%;\n",
              "      cursor: pointer;\n",
              "      display: none;\n",
              "      fill: #1967D2;\n",
              "      height: 32px;\n",
              "      padding: 0 0 0 0;\n",
              "      width: 32px;\n",
              "    }\n",
              "\n",
              "    .colab-df-convert:hover {\n",
              "      background-color: #E2EBFA;\n",
              "      box-shadow: 0px 1px 2px rgba(60, 64, 67, 0.3), 0px 1px 3px 1px rgba(60, 64, 67, 0.15);\n",
              "      fill: #174EA6;\n",
              "    }\n",
              "\n",
              "    .colab-df-buttons div {\n",
              "      margin-bottom: 4px;\n",
              "    }\n",
              "\n",
              "    [theme=dark] .colab-df-convert {\n",
              "      background-color: #3B4455;\n",
              "      fill: #D2E3FC;\n",
              "    }\n",
              "\n",
              "    [theme=dark] .colab-df-convert:hover {\n",
              "      background-color: #434B5C;\n",
              "      box-shadow: 0px 1px 3px 1px rgba(0, 0, 0, 0.15);\n",
              "      filter: drop-shadow(0px 1px 2px rgba(0, 0, 0, 0.3));\n",
              "      fill: #FFFFFF;\n",
              "    }\n",
              "  </style>\n",
              "\n",
              "    <script>\n",
              "      const buttonEl =\n",
              "        document.querySelector('#df-3d674041-8ffb-4270-b91d-acfe22eb7114 button.colab-df-convert');\n",
              "      buttonEl.style.display =\n",
              "        google.colab.kernel.accessAllowed ? 'block' : 'none';\n",
              "\n",
              "      async function convertToInteractive(key) {\n",
              "        const element = document.querySelector('#df-3d674041-8ffb-4270-b91d-acfe22eb7114');\n",
              "        const dataTable =\n",
              "          await google.colab.kernel.invokeFunction('convertToInteractive',\n",
              "                                                    [key], {});\n",
              "        if (!dataTable) return;\n",
              "\n",
              "        const docLinkHtml = 'Like what you see? Visit the ' +\n",
              "          '<a target=\"_blank\" href=https://colab.research.google.com/notebooks/data_table.ipynb>data table notebook</a>'\n",
              "          + ' to learn more about interactive tables.';\n",
              "        element.innerHTML = '';\n",
              "        dataTable['output_type'] = 'display_data';\n",
              "        await google.colab.output.renderOutput(dataTable, element);\n",
              "        const docLink = document.createElement('div');\n",
              "        docLink.innerHTML = docLinkHtml;\n",
              "        element.appendChild(docLink);\n",
              "      }\n",
              "    </script>\n",
              "  </div>\n",
              "\n",
              "\n",
              "<div id=\"df-abec4651-3c8a-4650-8d19-e2951bcc6263\">\n",
              "  <button class=\"colab-df-quickchart\" onclick=\"quickchart('df-abec4651-3c8a-4650-8d19-e2951bcc6263')\"\n",
              "            title=\"Suggest charts\"\n",
              "            style=\"display:none;\">\n",
              "\n",
              "<svg xmlns=\"http://www.w3.org/2000/svg\" height=\"24px\"viewBox=\"0 0 24 24\"\n",
              "     width=\"24px\">\n",
              "    <g>\n",
              "        <path d=\"M19 3H5c-1.1 0-2 .9-2 2v14c0 1.1.9 2 2 2h14c1.1 0 2-.9 2-2V5c0-1.1-.9-2-2-2zM9 17H7v-7h2v7zm4 0h-2V7h2v10zm4 0h-2v-4h2v4z\"/>\n",
              "    </g>\n",
              "</svg>\n",
              "  </button>\n",
              "\n",
              "<style>\n",
              "  .colab-df-quickchart {\n",
              "      --bg-color: #E8F0FE;\n",
              "      --fill-color: #1967D2;\n",
              "      --hover-bg-color: #E2EBFA;\n",
              "      --hover-fill-color: #174EA6;\n",
              "      --disabled-fill-color: #AAA;\n",
              "      --disabled-bg-color: #DDD;\n",
              "  }\n",
              "\n",
              "  [theme=dark] .colab-df-quickchart {\n",
              "      --bg-color: #3B4455;\n",
              "      --fill-color: #D2E3FC;\n",
              "      --hover-bg-color: #434B5C;\n",
              "      --hover-fill-color: #FFFFFF;\n",
              "      --disabled-bg-color: #3B4455;\n",
              "      --disabled-fill-color: #666;\n",
              "  }\n",
              "\n",
              "  .colab-df-quickchart {\n",
              "    background-color: var(--bg-color);\n",
              "    border: none;\n",
              "    border-radius: 50%;\n",
              "    cursor: pointer;\n",
              "    display: none;\n",
              "    fill: var(--fill-color);\n",
              "    height: 32px;\n",
              "    padding: 0;\n",
              "    width: 32px;\n",
              "  }\n",
              "\n",
              "  .colab-df-quickchart:hover {\n",
              "    background-color: var(--hover-bg-color);\n",
              "    box-shadow: 0 1px 2px rgba(60, 64, 67, 0.3), 0 1px 3px 1px rgba(60, 64, 67, 0.15);\n",
              "    fill: var(--button-hover-fill-color);\n",
              "  }\n",
              "\n",
              "  .colab-df-quickchart-complete:disabled,\n",
              "  .colab-df-quickchart-complete:disabled:hover {\n",
              "    background-color: var(--disabled-bg-color);\n",
              "    fill: var(--disabled-fill-color);\n",
              "    box-shadow: none;\n",
              "  }\n",
              "\n",
              "  .colab-df-spinner {\n",
              "    border: 2px solid var(--fill-color);\n",
              "    border-color: transparent;\n",
              "    border-bottom-color: var(--fill-color);\n",
              "    animation:\n",
              "      spin 1s steps(1) infinite;\n",
              "  }\n",
              "\n",
              "  @keyframes spin {\n",
              "    0% {\n",
              "      border-color: transparent;\n",
              "      border-bottom-color: var(--fill-color);\n",
              "      border-left-color: var(--fill-color);\n",
              "    }\n",
              "    20% {\n",
              "      border-color: transparent;\n",
              "      border-left-color: var(--fill-color);\n",
              "      border-top-color: var(--fill-color);\n",
              "    }\n",
              "    30% {\n",
              "      border-color: transparent;\n",
              "      border-left-color: var(--fill-color);\n",
              "      border-top-color: var(--fill-color);\n",
              "      border-right-color: var(--fill-color);\n",
              "    }\n",
              "    40% {\n",
              "      border-color: transparent;\n",
              "      border-right-color: var(--fill-color);\n",
              "      border-top-color: var(--fill-color);\n",
              "    }\n",
              "    60% {\n",
              "      border-color: transparent;\n",
              "      border-right-color: var(--fill-color);\n",
              "    }\n",
              "    80% {\n",
              "      border-color: transparent;\n",
              "      border-right-color: var(--fill-color);\n",
              "      border-bottom-color: var(--fill-color);\n",
              "    }\n",
              "    90% {\n",
              "      border-color: transparent;\n",
              "      border-bottom-color: var(--fill-color);\n",
              "    }\n",
              "  }\n",
              "</style>\n",
              "\n",
              "  <script>\n",
              "    async function quickchart(key) {\n",
              "      const quickchartButtonEl =\n",
              "        document.querySelector('#' + key + ' button');\n",
              "      quickchartButtonEl.disabled = true;  // To prevent multiple clicks.\n",
              "      quickchartButtonEl.classList.add('colab-df-spinner');\n",
              "      try {\n",
              "        const charts = await google.colab.kernel.invokeFunction(\n",
              "            'suggestCharts', [key], {});\n",
              "      } catch (error) {\n",
              "        console.error('Error during call to suggestCharts:', error);\n",
              "      }\n",
              "      quickchartButtonEl.classList.remove('colab-df-spinner');\n",
              "      quickchartButtonEl.classList.add('colab-df-quickchart-complete');\n",
              "    }\n",
              "    (() => {\n",
              "      let quickchartButtonEl =\n",
              "        document.querySelector('#df-abec4651-3c8a-4650-8d19-e2951bcc6263 button');\n",
              "      quickchartButtonEl.style.display =\n",
              "        google.colab.kernel.accessAllowed ? 'block' : 'none';\n",
              "    })();\n",
              "  </script>\n",
              "</div>\n",
              "\n",
              "  <div id=\"id_46bafa44-1b7b-4ada-ad2d-72f6a1153932\">\n",
              "    <style>\n",
              "      .colab-df-generate {\n",
              "        background-color: #E8F0FE;\n",
              "        border: none;\n",
              "        border-radius: 50%;\n",
              "        cursor: pointer;\n",
              "        display: none;\n",
              "        fill: #1967D2;\n",
              "        height: 32px;\n",
              "        padding: 0 0 0 0;\n",
              "        width: 32px;\n",
              "      }\n",
              "\n",
              "      .colab-df-generate:hover {\n",
              "        background-color: #E2EBFA;\n",
              "        box-shadow: 0px 1px 2px rgba(60, 64, 67, 0.3), 0px 1px 3px 1px rgba(60, 64, 67, 0.15);\n",
              "        fill: #174EA6;\n",
              "      }\n",
              "\n",
              "      [theme=dark] .colab-df-generate {\n",
              "        background-color: #3B4455;\n",
              "        fill: #D2E3FC;\n",
              "      }\n",
              "\n",
              "      [theme=dark] .colab-df-generate:hover {\n",
              "        background-color: #434B5C;\n",
              "        box-shadow: 0px 1px 3px 1px rgba(0, 0, 0, 0.15);\n",
              "        filter: drop-shadow(0px 1px 2px rgba(0, 0, 0, 0.3));\n",
              "        fill: #FFFFFF;\n",
              "      }\n",
              "    </style>\n",
              "    <button class=\"colab-df-generate\" onclick=\"generateWithVariable('consulta3')\"\n",
              "            title=\"Generate code using this dataframe.\"\n",
              "            style=\"display:none;\">\n",
              "\n",
              "  <svg xmlns=\"http://www.w3.org/2000/svg\" height=\"24px\"viewBox=\"0 0 24 24\"\n",
              "       width=\"24px\">\n",
              "    <path d=\"M7,19H8.4L18.45,9,17,7.55,7,17.6ZM5,21V16.75L18.45,3.32a2,2,0,0,1,2.83,0l1.4,1.43a1.91,1.91,0,0,1,.58,1.4,1.91,1.91,0,0,1-.58,1.4L9.25,21ZM18.45,9,17,7.55Zm-12,3A5.31,5.31,0,0,0,4.9,8.1,5.31,5.31,0,0,0,1,6.5,5.31,5.31,0,0,0,4.9,4.9,5.31,5.31,0,0,0,6.5,1,5.31,5.31,0,0,0,8.1,4.9,5.31,5.31,0,0,0,12,6.5,5.46,5.46,0,0,0,6.5,12Z\"/>\n",
              "  </svg>\n",
              "    </button>\n",
              "    <script>\n",
              "      (() => {\n",
              "      const buttonEl =\n",
              "        document.querySelector('#id_46bafa44-1b7b-4ada-ad2d-72f6a1153932 button.colab-df-generate');\n",
              "      buttonEl.style.display =\n",
              "        google.colab.kernel.accessAllowed ? 'block' : 'none';\n",
              "\n",
              "      buttonEl.onclick = () => {\n",
              "        google.colab.notebook.generateWithVariable('consulta3');\n",
              "      }\n",
              "      })();\n",
              "    </script>\n",
              "  </div>\n",
              "\n",
              "    </div>\n",
              "  </div>\n"
            ],
            "application/vnd.google.colaboratory.intrinsic+json": {
              "type": "dataframe",
              "variable_name": "consulta3",
              "summary": "{\n  \"name\": \"consulta3\",\n  \"rows\": 51094,\n  \"fields\": [\n    {\n      \"column\": \"ANO\",\n      \"properties\": {\n        \"dtype\": \"number\",\n        \"std\": 0,\n        \"min\": 2021,\n        \"max\": 2023,\n        \"num_unique_values\": 3,\n        \"samples\": [\n          2021,\n          2022,\n          2023\n        ],\n        \"semantic_type\": \"\",\n        \"description\": \"\"\n      }\n    },\n    {\n      \"column\": \"TRIMESTRE\",\n      \"properties\": {\n        \"dtype\": \"number\",\n        \"std\": 1,\n        \"min\": 1,\n        \"max\": 4,\n        \"num_unique_values\": 4,\n        \"samples\": [\n          3,\n          1,\n          2\n        ],\n        \"semantic_type\": \"\",\n        \"description\": \"\"\n      }\n    },\n    {\n      \"column\": \"PROVEEDOR\",\n      \"properties\": {\n        \"dtype\": \"category\",\n        \"num_unique_values\": 5,\n        \"samples\": [\n          \"COLOMBIA TELECOMUNICACIONES S.A. E.S.P.\",\n          \"EMPRESA DE TELECOMUNICACIONES DE BOGOTA S.A. ESP\",\n          \"COLOMBIA MOVIL  S.A ESP\"\n        ],\n        \"semantic_type\": \"\",\n        \"description\": \"\"\n      }\n    },\n    {\n      \"column\": \"COD_DEPARTAMENTO\",\n      \"properties\": {\n        \"dtype\": \"number\",\n        \"std\": 25,\n        \"min\": 5,\n        \"max\": 99,\n        \"num_unique_values\": 33,\n        \"samples\": [\n          95,\n          41,\n          91\n        ],\n        \"semantic_type\": \"\",\n        \"description\": \"\"\n      }\n    },\n    {\n      \"column\": \"DEPARTAMENTO\",\n      \"properties\": {\n        \"dtype\": \"category\",\n        \"num_unique_values\": 33,\n        \"samples\": [\n          \"GUAVIARE\",\n          \"HUILA\",\n          \"AMAZONAS\"\n        ],\n        \"semantic_type\": \"\",\n        \"description\": \"\"\n      }\n    },\n    {\n      \"column\": \"MUNICIPIO\",\n      \"properties\": {\n        \"dtype\": \"category\",\n        \"num_unique_values\": 1019,\n        \"samples\": [\n          \"COTA\",\n          \"COCORN\\u00c1\",\n          \"ZAMBRANO\"\n        ],\n        \"semantic_type\": \"\",\n        \"description\": \"\"\n      }\n    },\n    {\n      \"column\": \"CAB_MUNICIPAL\",\n      \"properties\": {\n        \"dtype\": \"category\",\n        \"num_unique_values\": 2,\n        \"samples\": [\n          \"S\",\n          \"N\"\n        ],\n        \"semantic_type\": \"\",\n        \"description\": \"\"\n      }\n    },\n    {\n      \"column\": \"COBERT_2G\",\n      \"properties\": {\n        \"dtype\": \"category\",\n        \"num_unique_values\": 1,\n        \"samples\": [\n          \"S\"\n        ],\n        \"semantic_type\": \"\",\n        \"description\": \"\"\n      }\n    },\n    {\n      \"column\": \"COBERT_3G\",\n      \"properties\": {\n        \"dtype\": \"category\",\n        \"num_unique_values\": 1,\n        \"samples\": [\n          \"S\"\n        ],\n        \"semantic_type\": \"\",\n        \"description\": \"\"\n      }\n    },\n    {\n      \"column\": \"COBERT_4G\",\n      \"properties\": {\n        \"dtype\": \"category\",\n        \"num_unique_values\": 1,\n        \"samples\": [\n          \"S\"\n        ],\n        \"semantic_type\": \"\",\n        \"description\": \"\"\n      }\n    },\n    {\n      \"column\": \"COBERT_LTE\",\n      \"properties\": {\n        \"dtype\": \"category\",\n        \"num_unique_values\": 1,\n        \"samples\": [\n          \"N\"\n        ],\n        \"semantic_type\": \"\",\n        \"description\": \"\"\n      }\n    }\n  ]\n}"
            }
          },
          "metadata": {},
          "execution_count": 24
        }
      ]
    },
    {
      "source": [
        "consulta3['ANO'].plot(kind='line', figsize=(8, 4), title='ANO')\n",
        "plt.gca().spines[['top', 'right']].set_visible(False)"
      ],
      "cell_type": "code",
      "execution_count": 25,
      "outputs": [
        {
          "output_type": "display_data",
          "data": {
            "text/plain": [
              "<Figure size 800x400 with 1 Axes>"
            ],
            "image/png": "[encoded data removed]"
          },
          "metadata": {}
        }
      ],
      "metadata": {
        "colab": {
          "base_uri": "https://localhost:8080/",
          "height": 391
        },
        "id": "L4-yRejSQXFD",
        "outputId": "03eb67a0-454d-44a2-9b53-a03d3106d6a2"
      }
    }
  ]
}